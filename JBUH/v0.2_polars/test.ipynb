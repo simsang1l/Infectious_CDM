{
 "cells": [
  {
   "cell_type": "code",
   "execution_count": 15,
   "metadata": {},
   "outputs": [
    {
     "data": {
      "text/plain": [
       "{'PATNO': String,\n",
       " 'PATNAME': String,\n",
       " 'RESNO1': String,\n",
       " 'RESNO2': String,\n",
       " 'BIRTHDAY': String,\n",
       " 'SEX': String,\n",
       " 'HOMTELNO': String,\n",
       " 'CELTELNO': String,\n",
       " 'EMAIL': String,\n",
       " 'ZIPCODE': String,\n",
       " 'ZIPSEQ': String,\n",
       " 'ZIPADDR': String,\n",
       " 'ADDRESS': String,\n",
       " 'ZIPCODE2': String,\n",
       " 'ZIPSEQ2': String,\n",
       " 'ZIPADDR2': String,\n",
       " 'ADDRESS2': String,\n",
       " 'BMTYN': String,\n",
       " 'BMTDATE': String,\n",
       " 'BINDPATNO': String,\n",
       " 'DIEDATE': String,\n",
       " 'DIEEDITID': String,\n",
       " 'ABOTYP': String,\n",
       " 'RHTYP': String,\n",
       " 'ABOREGDATE': String,\n",
       " 'HEIGHT': String,\n",
       " 'WEIGHT': String,\n",
       " 'REGTIME2': String,\n",
       " 'OPDATE': String,\n",
       " 'LASTDATE': String,\n",
       " 'REFERFROM': String,\n",
       " 'REFERTO': String,\n",
       " 'ADDORDYN': String,\n",
       " 'LIFECUSTYN': String,\n",
       " 'VIPYN': String,\n",
       " 'MARRYYN': String,\n",
       " 'MENOYN': String,\n",
       " 'SECUYN': String,\n",
       " 'MOBILEYN': String,\n",
       " 'HEPANO': String,\n",
       " 'ACLMTYN': String,\n",
       " 'CELTELNO2': String,\n",
       " 'CELTELNOREL2': String,\n",
       " 'CELTELNO3': String,\n",
       " 'CELTELNOREL3': String,\n",
       " 'PERTYP': String,\n",
       " 'PERNO': String,\n",
       " 'SIGNYN': String,\n",
       " 'REGID': String,\n",
       " 'REGIP': String,\n",
       " 'REGTIME': String,\n",
       " 'EDITID': String,\n",
       " 'EDITIP': String,\n",
       " 'EDITTIME': String,\n",
       " 'ZIPCODESEQ': String,\n",
       " 'ZIPCODESEQ2': String,\n",
       " 'DONORYN': String,\n",
       " 'PACEMAKER': String,\n",
       " 'CELTELNOETC2': String,\n",
       " 'CELTELNOETC3': String,\n",
       " 'SUICDATMPFG': String,\n",
       " 'ACLMTREASON': String,\n",
       " 'ETLDATE\\r': String}"
      ]
     },
     "execution_count": 15,
     "metadata": {},
     "output_type": "execute_result"
    }
   ],
   "source": [
    "import polars as pl\n",
    "\n",
    "df = pl.read_csv(\"F:\\\\01.감염병데이터베이스\\\\data\\\\2023_infectious_DW\\\\ods_appatbat.csv\", dtypes={\"PATNO\": pl.Utf8})\n",
    "d = \n",
    "d = {col: pl.Utf8 for col in df.columns}\n",
    "d"
   ]
  },
  {
   "cell_type": "code",
   "execution_count": 17,
   "metadata": {},
   "outputs": [
    {
     "data": {
      "text/html": [
       "<div><style>\n",
       ".dataframe > thead > tr,\n",
       ".dataframe > tbody > tr {\n",
       "  text-align: right;\n",
       "  white-space: pre-wrap;\n",
       "}\n",
       "</style>\n",
       "<small>shape: (1, 2)</small><table border=\"1\" class=\"dataframe\"><thead><tr><th>tt</th><th>visit_start_datetime</th></tr><tr><td>str</td><td>datetime[μs]</td></tr></thead><tbody><tr><td>&quot;201903081045&quot;</td><td>2019-03-08 10:45:00</td></tr></tbody></table></div>"
      ],
      "text/plain": [
       "shape: (1, 2)\n",
       "┌──────────────┬──────────────────────┐\n",
       "│ tt           ┆ visit_start_datetime │\n",
       "│ ---          ┆ ---                  │\n",
       "│ str          ┆ datetime[μs]         │\n",
       "╞══════════════╪══════════════════════╡\n",
       "│ 201903081045 ┆ 2019-03-08 10:45:00  │\n",
       "└──────────────┴──────────────────────┘"
      ]
     },
     "execution_count": 17,
     "metadata": {},
     "output_type": "execute_result"
    }
   ],
   "source": [
    "import polars as pl\n",
    "\n",
    "df = pl.DataFrame({\"tt\": \"201903081045\"})\n",
    "\n",
    "df = df.with_columns(\n",
    "            pl.col(\"tt\").str.strptime(pl.Datetime, \"%Y%m%d%H%M\").alias(\"visit_start_datetime\")\n",
    "        )\n",
    "df"
   ]
  },
  {
   "cell_type": "code",
   "execution_count": null,
   "metadata": {},
   "outputs": [],
   "source": []
  }
 ],
 "metadata": {
  "kernelspec": {
   "display_name": "sangil",
   "language": "python",
   "name": "python3"
  },
  "language_info": {
   "codemirror_mode": {
    "name": "ipython",
    "version": 3
   },
   "file_extension": ".py",
   "mimetype": "text/x-python",
   "name": "python",
   "nbconvert_exporter": "python",
   "pygments_lexer": "ipython3",
   "version": "3.11.4"
  }
 },
 "nbformat": 4,
 "nbformat_minor": 2
}
