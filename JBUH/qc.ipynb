{
 "cells": [
  {
   "cell_type": "code",
   "execution_count": null,
   "metadata": {},
   "outputs": [],
   "source": [
    "import pandas as pd\n",
    "import os\n",
    "\n",
    "path = 'F:\\\\01.감염병데이터베이스\\\\data\\\\2023_infectious_CDM'\n",
    "df = pd.read_csv(os.path.join(path, 'measurement.csv'))\n",
    "df.isnull().sum()\n",
    "# df[df[\"observation_period_start_date\"].isna()]"
   ]
  },
  {
   "cell_type": "code",
   "execution_count": null,
   "metadata": {},
   "outputs": [],
   "source": [
    "import pandas as pd\n",
    "import os\n",
    "\n",
    "path = 'F:\\\\01.감염병데이터베이스\\\\data\\\\2023_infectious_CDM'\n",
    "df = pd.read_csv(os.path.join(path, 'visit_occurrence.csv'))\n",
    "print(df.isnull().sum())\n",
    "print(len(df))\n",
    "print(df[df[\"person_id\"]==1])"
   ]
  },
  {
   "cell_type": "code",
   "execution_count": null,
   "metadata": {},
   "outputs": [],
   "source": [
    "import pandas as pd\n",
    "import os\n",
    "\n",
    "path = 'F:\\\\01.감염병데이터베이스\\\\data\\\\2023_infectious_CDM'\n",
    "df = pd.read_csv(os.path.join(path, 'condition_occurrence.csv'))\n",
    "print(df.isnull().sum())\n",
    "print(len(df))\n",
    "# df[df[\"observation_period_start_date\"].isna()]"
   ]
  },
  {
   "cell_type": "code",
   "execution_count": null,
   "metadata": {},
   "outputs": [],
   "source": [
    "import pandas as pd\n",
    "import os\n",
    "\n",
    "path = 'F:\\\\01.감염병데이터베이스\\\\data\\\\2023_infectious_CDM'\n",
    "df = pd.read_csv(os.path.join(path, 'drug_exposure.csv'))\n",
    "print(df.isnull().sum())\n",
    "print(len(df))\n",
    "# df[df[\"observation_period_start_date\"].isna()]"
   ]
  },
  {
   "cell_type": "code",
   "execution_count": null,
   "metadata": {},
   "outputs": [],
   "source": [
    "import pandas as pd\n",
    "import os\n",
    "\n",
    "path = 'F:\\\\01.감염병데이터베이스\\\\data\\\\2023_infectious_CDM'\n",
    "df = pd.read_csv(os.path.join(path, 'procedure_occurrence.csv'))\n",
    "print(df[\"procedure_date\"].str.len().unique())\n",
    "print(df[df[\"procedure_date\"].str.len() == 18])\n",
    "print(df.isnull().sum())\n",
    "print(df.info())\n",
    "# df[df[\"observation_period_start_date\"].isna()]"
   ]
  },
  {
   "cell_type": "code",
   "execution_count": null,
   "metadata": {},
   "outputs": [],
   "source": [
    "import pandas as pd\n",
    "import os\n",
    "\n",
    "path = 'F:\\\\01.감염병데이터베이스\\\\data\\\\2023_infectious_CDM'\n",
    "df = pd.read_csv(os.path.join(path, 'local_edi.csv'))\n",
    "df.isnull().sum()\n",
    "# df[df[\"observation_period_start_date\"].isna()]"
   ]
  },
  {
   "cell_type": "code",
   "execution_count": null,
   "metadata": {},
   "outputs": [],
   "source": [
    "import pandas as pd\n",
    "import os\n",
    "\n",
    "path = 'F:\\\\01.감염병데이터베이스\\\\data\\\\2023_infectious_DW'\n",
    "df = pd.read_csv(os.path.join(path, 'ods_mmexmort.csv'), dtype=str)\n",
    "# df1 = pd.read_csv(os.path.join(path, 'ods_stresult.csv'))\n",
    "# df.isnull().sum()\n",
    "# df[df[\"observation_period_start_date\"].isna()]\n",
    "# print(len(df), len(df1))\n",
    "print(df[(df[\"PATNO\"] == \"01423137\") & (df[\"MEDTIME\"]==) ])"
   ]
  },
  {
   "cell_type": "code",
   "execution_count": null,
   "metadata": {},
   "outputs": [],
   "source": [
    "import pandas as pd\n",
    "import os\n",
    "\n",
    "path = 'F:\\\\01.감염병데이터베이스\\\\data\\\\2023_infectious_DW'\n",
    "df = pd.read_csv(os.path.join(path, 'ods_apopdlst.csv'), dtype=str)\n",
    "# df1 = pd.read_csv(os.path.join(path, 'ods_stresult.csv'))\n",
    "# df.isnull().sum()\n",
    "# df[df[\"observation_period_start_date\"].isna()]\n",
    "# print(len(df), len(df1))\n",
    "# data = df[(df[\"PATNO\"] == \"01857874\") & (df[\"MEDTIME\"] == \"201903081045\")]\n",
    "data = df[df[\"MEDTIME\"] == \"200703099000\"]\n",
    "print(data)\n",
    "print(pd.to_datetime(data[\"MEDTIME\"]).astype(str))\n"
   ]
  },
  {
   "cell_type": "code",
   "execution_count": null,
   "metadata": {},
   "outputs": [],
   "source": [
    "import pandas as pd\n",
    "import os\n",
    "\n",
    "path = 'F:\\\\01.감염병데이터베이스\\\\data\\\\DW'\n",
    "df = pd.read_csv(os.path.join(path, 'ods_mmexmort_covid.csv'))\n",
    "df1 = pd.read_csv(os.path.join(path, 'ods_mmexmort_sfts.csv'))\n",
    "df2 = pd.read_csv(os.path.join(path, 'ods_mmexmort_쯔쯔가무시.csv'))\n",
    "# df.isnull().sum()\n",
    "# df[df[\"observation_period_start_date\"].isna()]\n",
    "print(len(df), len(df1), len(df2))"
   ]
  },
  {
   "cell_type": "code",
   "execution_count": null,
   "metadata": {},
   "outputs": [],
   "source": [
    "import pandas as pd\n",
    "import os\n",
    "\n",
    "path = 'D:\\\\00.과제\\\\90.임상약리센터관련\\\\감염병CDM\\\\경북대\\\\최종CDM\\\\cdm_경북대_20231207'\n",
    "df = pd.read_csv(os.path.join(path, 'procedure_occurrence.csv'))\n",
    "# df1 = pd.read_csv(os.path.join(path, 'ods_mmexmort_sfts.csv'))\n",
    "# df2 = pd.read_csv(os.path.join(path, 'ods_mmexmort_쯔쯔가무시.csv'))\n",
    "print(df.isnull().sum())\n",
    "print('-------------')\n",
    "print(len(df))\n",
    "print('-------------')\n",
    "print(df.nunique())"
   ]
  },
  {
   "cell_type": "code",
   "execution_count": null,
   "metadata": {},
   "outputs": [],
   "source": [
    "import pandas as pd\n",
    "import os\n",
    "\n",
    "path = 'D:\\\\00.과제\\\\90.임상약리센터관련\\\\감염병CDM\\\\계명대\\\\DSMC_CDM추출본_20231207'\n",
    "df = pd.read_csv(os.path.join(path, 'observation_period.csv'), encoding = 'CP949')\n",
    "# df1 = pd.read_csv(os.path.join(path, 'ods_mmexmort_sfts.csv'))\n",
    "# df2 = pd.read_csv(os.path.join(path, 'ods_mmexmort_쯔쯔가무시.csv'))\n",
    "print(df.isnull().sum())\n",
    "print('-------------')\n",
    "print(len(df))\n",
    "print('-------------')\n",
    "print(df.nunique())\n",
    "print('-------------')\n",
    "print(df.info())"
   ]
  },
  {
   "cell_type": "code",
   "execution_count": null,
   "metadata": {},
   "outputs": [],
   "source": [
    "import pandas as pd\n",
    "import os\n",
    "\n",
    "path = 'D:\\\\00.과제\\\\90.임상약리센터관련\\\\감염병CDM\\\\전남대\\\\cnuh최종'\n",
    "df = pd.read_csv(os.path.join(path, 'drug_exposure.csv'), encoding = 'CP949')\n",
    "# df1 = pd.read_csv(os.path.join(path, 'ods_mmexmort_sfts.csv'))\n",
    "# df2 = pd.read_csv(os.path.join(path, 'ods_mmexmort_쯔쯔가무시.csv'))\n",
    "print(df.isnull().sum())\n",
    "print('-------------')\n",
    "print(len(df))\n",
    "print('-------unique------')\n",
    "print(df.nunique())\n",
    "print('-------info------')\n",
    "print(df.info())"
   ]
  },
  {
   "cell_type": "code",
   "execution_count": null,
   "metadata": {},
   "outputs": [],
   "source": []
  }
 ],
 "metadata": {
  "kernelspec": {
   "display_name": "sangil",
   "language": "python",
   "name": "python3"
  },
  "language_info": {
   "codemirror_mode": {
    "name": "ipython",
    "version": 3
   },
   "file_extension": ".py",
   "mimetype": "text/x-python",
   "name": "python",
   "nbconvert_exporter": "python",
   "pygments_lexer": "ipython3",
   "version": "3.11.4"
  }
 },
 "nbformat": 4,
 "nbformat_minor": 2
}
