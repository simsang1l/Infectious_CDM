{
 "cells": [
  {
   "cell_type": "code",
   "execution_count": null,
   "metadata": {},
   "outputs": [],
   "source": [
    "import pandas as pd\n",
    "import os\n",
    "\n",
    "path = 'F:\\\\01.감염병데이터베이스\\\\data\\\\2023_infectious_CDM'\n",
    "df = pd.read_csv(os.path.join(path, 'measurement.csv'))\n",
    "df.isnull().sum()\n",
    "# df[df[\"observation_period_start_date\"].isna()]"
   ]
  },
  {
   "cell_type": "code",
   "execution_count": null,
   "metadata": {},
   "outputs": [],
   "source": [
    "import pandas as pd\n",
    "import os\n",
    "\n",
    "path = 'F:\\\\01.감염병데이터베이스\\\\data\\\\2023_infectious_CDM'\n",
    "df = pd.read_csv(os.path.join(path, 'visit_occurrence.csv'))\n",
    "print(df.isnull().sum())\n",
    "print(len(df))\n",
    "print(df[df[\"person_id\"]==1])"
   ]
  },
  {
   "cell_type": "code",
   "execution_count": null,
   "metadata": {},
   "outputs": [],
   "source": [
    "import pandas as pd\n",
    "import os\n",
    "\n",
    "path = 'F:\\\\01.감염병데이터베이스\\\\data\\\\2023_infectious_CDM'\n",
    "df = pd.read_csv(os.path.join(path, 'condition_occurrence.csv'))\n",
    "print(df.isnull().sum())\n",
    "print(len(df))\n",
    "# df[df[\"observation_period_start_date\"].isna()]"
   ]
  },
  {
   "cell_type": "code",
   "execution_count": null,
   "metadata": {},
   "outputs": [],
   "source": [
    "import pandas as pd\n",
    "import os\n",
    "\n",
    "path = 'F:\\\\01.감염병데이터베이스\\\\data\\\\2023_infectious_CDM'\n",
    "df = pd.read_csv(os.path.join(path, 'drug_exposure.csv'))\n",
    "print(df.isnull().sum())\n",
    "print(len(df))\n",
    "# df[df[\"observation_period_start_date\"].isna()]"
   ]
  },
  {
   "cell_type": "code",
   "execution_count": null,
   "metadata": {},
   "outputs": [],
   "source": [
    "import pandas as pd\n",
    "import os\n",
    "\n",
    "path = 'F:\\\\01.감염병데이터베이스\\\\data\\\\2023_infectious_CDM'\n",
    "df = pd.read_csv(os.path.join(path, 'procedure_occurrence.csv'))\n",
    "print(df[\"procedure_date\"].str.len().unique())\n",
    "print(df[df[\"procedure_date\"].str.len() == 18])\n",
    "print(df.isnull().sum())\n",
    "print(df.info())\n",
    "# df[df[\"observation_period_start_date\"].isna()]"
   ]
  },
  {
   "cell_type": "code",
   "execution_count": null,
   "metadata": {},
   "outputs": [],
   "source": [
    "import pandas as pd\n",
    "import os\n",
    "\n",
    "path = 'F:\\\\01.감염병데이터베이스\\\\data\\\\2023_infectious_CDM'\n",
    "df = pd.read_csv(os.path.join(path, 'local_edi.csv'))\n",
    "df.isnull().sum()\n",
    "# df[df[\"observation_period_start_date\"].isna()]"
   ]
  },
  {
   "cell_type": "code",
   "execution_count": null,
   "metadata": {},
   "outputs": [],
   "source": [
    "import pandas as pd\n",
    "import os\n",
    "\n",
    "path = 'F:\\\\01.감염병데이터베이스\\\\data\\\\2023_infectious_DW'\n",
    "df = pd.read_csv(os.path.join(path, 'ods_mmexmort.csv'), dtype=str)\n",
    "# df1 = pd.read_csv(os.path.join(path, 'ods_stresult.csv'))\n",
    "# df.isnull().sum()\n",
    "# df[df[\"observation_period_start_date\"].isna()]\n",
    "# print(len(df), len(df1))\n",
    "print(df[(df[\"PATNO\"] == \"01423137\") & (df[\"MEDTIME\"]==) ])"
   ]
  },
  {
   "cell_type": "code",
   "execution_count": null,
   "metadata": {},
   "outputs": [],
   "source": [
    "import pandas as pd\n",
    "import os\n",
    "\n",
    "path = 'F:\\\\01.감염병데이터베이스\\\\data\\\\2023_infectious_DW'\n",
    "df = pd.read_csv(os.path.join(path, 'ods_apopdlst.csv'), dtype=str)\n",
    "# df1 = pd.read_csv(os.path.join(path, 'ods_stresult.csv'))\n",
    "# df.isnull().sum()\n",
    "# df[df[\"observation_period_start_date\"].isna()]\n",
    "# print(len(df), len(df1))\n",
    "# data = df[(df[\"PATNO\"] == \"01857874\") & (df[\"MEDTIME\"] == \"201903081045\")]\n",
    "data = df[df[\"MEDTIME\"] == \"200703099000\"]\n",
    "print(data)\n",
    "print(pd.to_datetime(data[\"MEDTIME\"]).astype(str))\n"
   ]
  },
  {
   "cell_type": "code",
   "execution_count": null,
   "metadata": {},
   "outputs": [],
   "source": [
    "import pandas as pd\n",
    "import os\n",
    "\n",
    "path = 'F:\\\\01.감염병데이터베이스\\\\data\\\\DW'\n",
    "df = pd.read_csv(os.path.join(path, 'ods_mmexmort_covid.csv'))\n",
    "df1 = pd.read_csv(os.path.join(path, 'ods_mmexmort_sfts.csv'))\n",
    "df2 = pd.read_csv(os.path.join(path, 'ods_mmexmort_쯔쯔가무시.csv'))\n",
    "# df.isnull().sum()\n",
    "# df[df[\"observation_period_start_date\"].isna()]\n",
    "print(len(df), len(df1), len(df2))"
   ]
  },
  {
   "cell_type": "code",
   "execution_count": null,
   "metadata": {},
   "outputs": [],
   "source": [
    "import pandas as pd\n",
    "import os\n",
    "\n",
    "path = 'D:\\\\00.과제\\\\90.임상약리센터관련\\\\감염병CDM\\\\경북대\\\\최종CDM\\\\cdm_경북대_20231207'\n",
    "df = pd.read_csv(os.path.join(path, 'procedure_occurrence.csv'))\n",
    "# df1 = pd.read_csv(os.path.join(path, 'ods_mmexmort_sfts.csv'))\n",
    "# df2 = pd.read_csv(os.path.join(path, 'ods_mmexmort_쯔쯔가무시.csv'))\n",
    "print(df.isnull().sum())\n",
    "print('-------------')\n",
    "print(len(df))\n",
    "print('-------------')\n",
    "print(df.nunique())"
   ]
  },
  {
   "cell_type": "code",
   "execution_count": null,
   "metadata": {},
   "outputs": [],
   "source": [
    "import pandas as pd\n",
    "import os\n",
    "\n",
    "path = 'D:\\\\00.과제\\\\90.임상약리센터관련\\\\감염병CDM\\\\계명대\\\\DSMC_CDM추출본_20231207'\n",
    "df = pd.read_csv(os.path.join(path, 'observation_period.csv'), encoding = 'CP949')\n",
    "# df1 = pd.read_csv(os.path.join(path, 'ods_mmexmort_sfts.csv'))\n",
    "# df2 = pd.read_csv(os.path.join(path, 'ods_mmexmort_쯔쯔가무시.csv'))\n",
    "print(df.isnull().sum())\n",
    "print('-------------')\n",
    "print(len(df))\n",
    "print('-------------')\n",
    "print(df.nunique())\n",
    "print('-------------')\n",
    "print(df.info())"
   ]
  },
  {
   "cell_type": "code",
   "execution_count": null,
   "metadata": {},
   "outputs": [],
   "source": [
    "import pandas as pd\n",
    "import os\n",
    "\n",
    "path = 'D:\\\\00.과제\\\\90.임상약리센터관련\\\\감염병CDM\\\\전남대\\\\cnuh최종'\n",
    "df = pd.read_csv(os.path.join(path, 'drug_exposure.csv'), encoding = 'CP949')\n",
    "# df1 = pd.read_csv(os.path.join(path, 'ods_mmexmort_sfts.csv'))\n",
    "# df2 = pd.read_csv(os.path.join(path, 'ods_mmexmort_쯔쯔가무시.csv'))\n",
    "print(df.isnull().sum())\n",
    "print('-------------')\n",
    "print(len(df))\n",
    "print('-------unique------')\n",
    "print(df.nunique())\n",
    "print('-------info------')\n",
    "print(df.info())"
   ]
  },
  {
   "cell_type": "code",
   "execution_count": 20,
   "metadata": {},
   "outputs": [
    {
     "name": "stderr",
     "output_type": "stream",
     "text": [
      "C:\\Users\\sangil\\AppData\\Local\\Temp\\ipykernel_43468\\1945202178.py:4: DtypeWarning: Columns (17,19) have mixed types. Specify dtype option on import or set low_memory=False.\n",
      "  m = pd.read_csv(\"F:\\\\01.감염병데이터베이스\\\\data\\\\2023_infectious_CDM\\\\measurement.csv\")\n"
     ]
    },
    {
     "name": "stdout",
     "output_type": "stream",
     "text": [
      "2832831\n",
      "Index(['measurement_id', 'person_id', 'measurement_concept_id',\n",
      "       'measurement_date', 'measurement_datetime', 'measurement_time',\n",
      "       'measurement_type_concept_id', 'operator_concept_id', 'value_as_number',\n",
      "       'value_as_concept_id', 'unit_concept_id', 'range_low', 'range_high',\n",
      "       'provider_id', 'visit_occurrence_id', 'visit_detail_id',\n",
      "       'measurement_source_value', 'measurement_source_concept_id',\n",
      "       'unit_source_value', 'value_source_value', 'vocabulary_id_x',\n",
      "       'concept_id', 'concept_name', 'domain_id', 'vocabulary_id_y',\n",
      "       'concept_class_id', 'standard_concept', 'concept_code',\n",
      "       'valid_start_date', 'valid_end_date', 'invalid_reason'],\n",
      "      dtype='object')\n",
      "[[1 3664 0 '2013-02-01' '2013-02-01 11:02:04' '11:02:04' 44818702 0 30.0\n",
      "  0 nan 5.0 35.0 670.0 285413.0 nan 'L3016' 'B2580' 'IU/L' '30' 'EDI'\n",
      "  4118133 'IU/L' 'Unit' 'SNOMED' 'Qualifier Value' nan '259001000'\n",
      "  '2002-01-31' '2099-12-31' nan]\n",
      " [2 3664 0 '2013-02-01' '2013-02-01 11:02:04' '11:02:04' 44818702 0 95.0\n",
      "  0 nan 45.0 129.0 670.0 285413.0 nan 'L3013' 'B2602' 'IU/L' '95' 'EDI'\n",
      "  4118133 'IU/L' 'Unit' 'SNOMED' 'Qualifier Value' nan '259001000'\n",
      "  '2002-01-31' '2099-12-31' nan]\n",
      " [3 3664 0 '2013-02-01' '2013-02-01 11:02:04' '11:02:04' 44818702 0 72.0\n",
      "  0 nan 12.0 33.0 670.0 285413.0 nan 'L3015' 'B2570' 'IU/L' '72' 'EDI'\n",
      "  4118133 'IU/L' 'Unit' 'SNOMED' 'Qualifier Value' nan '259001000'\n",
      "  '2002-01-31' '2099-12-31' nan]\n",
      " [60 3664 0 '2013-03-05' '2013-03-05 13:05:03' '13:05:03' 44818702 0 23.0\n",
      "  0 nan 5.0 35.0 670.0 285416.0 nan 'L3016' 'B2580' 'IU/L' '23' 'EDI'\n",
      "  4118133 'IU/L' 'Unit' 'SNOMED' 'Qualifier Value' nan '259001000'\n",
      "  '2002-01-31' '2099-12-31' nan]\n",
      " [70 3664 0 '2013-03-05' '2013-03-05 13:05:03' '13:05:03' 44818702 0 73.0\n",
      "  0 nan 45.0 129.0 670.0 285416.0 nan 'L3013' 'B2602' 'IU/L' '73' 'EDI'\n",
      "  4118133 'IU/L' 'Unit' 'SNOMED' 'Qualifier Value' nan '259001000'\n",
      "  '2002-01-31' '2099-12-31' nan]]\n",
      "       concept_name concept_code vocabulary_id_y\n",
      "0              IU/L    259001000          SNOMED\n",
      "189876       mIU/mL    259005009          SNOMED\n",
      "193517         /HPF    259034003          SNOMED\n",
      "352658       uIU/mL    259006005          SNOMED\n",
      "360450         U/mL    258948008          SNOMED\n",
      "366336         mmHg    259018001          SNOMED\n",
      "512462          U/L    258947003          SNOMED\n",
      "661293        IU/mL    259002007          SNOMED\n",
      "664484        uU/mL    258952008          SNOMED\n",
      "664729       mg/day    258835005          SNOMED\n",
      "665383     mmol/day    258846008          SNOMED\n",
      "665474       ug/day    258839004          SNOMED\n",
      "665502         Unit    767525000          SNOMED\n",
      "665508        mEq/L    258865000          SNOMED\n"
     ]
    },
    {
     "data": {
      "text/plain": [
       "665545"
      ]
     },
     "execution_count": 20,
     "metadata": {},
     "output_type": "execute_result"
    }
   ],
   "source": [
    "import pandas as pd\n",
    "\n",
    "df = pd.read_csv(\"../concept_unit.csv\")\n",
    "m = pd.read_csv(\"F:\\\\01.감염병데이터베이스\\\\data\\\\2023_infectious_CDM\\\\measurement.csv\")\n",
    "\n",
    "df = df[(df[\"vocabulary_id\"] == \"SNOMED\")]\n",
    "m = m[m[\"unit_concept_id\"].isnull()]\n",
    "print(len(m))\n",
    "# d = pd.merge(m, df, left_on= \"unit_source_value\", right_on = \"concept_code\", how = \"inner\")\n",
    "d = pd.merge(m, df, left_on= \"unit_source_value\", right_on = \"concept_name\", how = \"inner\")\n",
    "print(d.columns)\n",
    "print(d.head().values)\n",
    "print(d[[\"concept_name\", \"concept_code\", \"vocabulary_id_y\"]].drop_duplicates())\n",
    "len(d)\n"
   ]
  },
  {
   "cell_type": "code",
   "execution_count": 6,
   "metadata": {},
   "outputs": [
    {
     "name": "stdout",
     "output_type": "stream",
     "text": [
      "1000000000\n"
     ]
    }
   ],
   "source": [
    "print(10**9)"
   ]
  },
  {
   "cell_type": "code",
   "execution_count": 26,
   "metadata": {},
   "outputs": [
    {
     "data": {
      "text/html": [
       "<div>\n",
       "<style scoped>\n",
       "    .dataframe tbody tr th:only-of-type {\n",
       "        vertical-align: middle;\n",
       "    }\n",
       "\n",
       "    .dataframe tbody tr th {\n",
       "        vertical-align: top;\n",
       "    }\n",
       "\n",
       "    .dataframe thead th {\n",
       "        text-align: right;\n",
       "    }\n",
       "</style>\n",
       "<table border=\"1\" class=\"dataframe\">\n",
       "  <thead>\n",
       "    <tr style=\"text-align: right;\">\n",
       "      <th></th>\n",
       "      <th>0</th>\n",
       "      <th>1</th>\n",
       "    </tr>\n",
       "  </thead>\n",
       "  <tbody>\n",
       "    <tr>\n",
       "      <th>0</th>\n",
       "      <td>9438</td>\n",
       "      <td>/10^5</td>\n",
       "    </tr>\n",
       "    <tr>\n",
       "      <th>1</th>\n",
       "      <td>8549</td>\n",
       "      <td>/10^6</td>\n",
       "    </tr>\n",
       "  </tbody>\n",
       "</table>\n",
       "</div>"
      ],
      "text/plain": [
       "      0      1\n",
       "0  9438  /10^5\n",
       "1  8549  /10^6"
      ]
     },
     "execution_count": 26,
     "metadata": {},
     "output_type": "execute_result"
    }
   ],
   "source": [
    "import pandas as pd\n",
    "\n",
    "df = [\n",
    "\t[9438, \"/10^5\"],\n",
    "\t[8549, \"/10^6\"]\n",
    "]\n",
    "df = pd.DataFrame(df)\n",
    "df"
   ]
  },
  {
   "cell_type": "code",
   "execution_count": 5,
   "metadata": {},
   "outputs": [
    {
     "name": "stderr",
     "output_type": "stream",
     "text": [
      "C:\\Users\\sangil\\AppData\\Local\\Temp\\ipykernel_34900\\4029710789.py:13: DtypeWarning: Columns (17,19) have mixed types. Specify dtype option on import or set low_memory=False.\n",
      "  measurement = pd.read_csv(os.path.join(config[\"CDM_path\"], \"measurement.csv\"))\n"
     ]
    }
   ],
   "source": [
    "import pandas as pd\n",
    "import yaml, os\n",
    "\n",
    "def load_config(config_path):\n",
    "    \"\"\"\n",
    "    YAML 설정 파일을 로드합니다.\n",
    "    \"\"\"\n",
    "    with open(config_path, 'r', encoding=\"utf-8\") as file:\n",
    "        return yaml.safe_load(file)\n",
    "    \n",
    "config = load_config(\"config.yaml\")\n",
    "\n",
    "measurement = pd.read_csv(os.path.join(config[\"CDM_path\"], \"measurement.csv\"))\n",
    "concept_synonym = pd.read_csv(os.path.join(config[\"CDM_path\"], \"unit_concept_synonym.csv\"))\n",
    "\n",
    "df = pd.merge(measurement, concept_synonym, left_on=\"unit_source_value\", right_on=\"concept_synonym_name\", how = \"left\")\n",
    "df = df[[\"unit_concept_id\", \"unit_source_value\", \"concept_id\"]].drop_duplicates()\n",
    "df[\"unit_concept_id\"] = df[\"unit_concept_id\"].combine_first(df[\"concept_id\"])\n",
    "\n",
    "df[[\"unit_concept_id\", \"unit_source_value\"]].to_csv(\"./unit_concept_id_list.csv\", index = False)\n",
    "\n"
   ]
  },
  {
   "cell_type": "code",
   "execution_count": null,
   "metadata": {},
   "outputs": [],
   "source": []
  }
 ],
 "metadata": {
  "kernelspec": {
   "display_name": "sangil",
   "language": "python",
   "name": "python3"
  },
  "language_info": {
   "codemirror_mode": {
    "name": "ipython",
    "version": 3
   },
   "file_extension": ".py",
   "mimetype": "text/x-python",
   "name": "python",
   "nbconvert_exporter": "python",
   "pygments_lexer": "ipython3",
   "version": "3.11.4"
  }
 },
 "nbformat": 4,
 "nbformat_minor": 2
}
