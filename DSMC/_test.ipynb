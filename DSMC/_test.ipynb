{
 "cells": [
  {
   "cell_type": "code",
   "execution_count": 3,
   "metadata": {},
   "outputs": [
    {
     "name": "stdout",
     "output_type": "stream",
     "text": [
      "0    1.5\n",
      "Name: b, dtype: object\n"
     ]
    }
   ],
   "source": [
    "import pandas as pd\n",
    "\n",
    "df = pd.DataFrame([['123', \"1.5\"]], columns=[\"a\", \"b\"])\n",
    "print(df[\"b\"].apply(lambda x: x.split('~')[0]))"
   ]
  },
  {
   "cell_type": "code",
   "execution_count": 6,
   "metadata": {},
   "outputs": [
    {
     "data": {
      "text/plain": [
       "0    1.5\n",
       "Name: b, dtype: object"
      ]
     },
     "execution_count": 6,
     "metadata": {},
     "output_type": "execute_result"
    }
   ],
   "source": [
    "df[\"b\"].apply(lambda x: x.split('~')[0])"
   ]
  },
  {
   "cell_type": "code",
   "execution_count": 8,
   "metadata": {},
   "outputs": [
    {
     "data": {
      "text/plain": [
       "0    1.5\n",
       "Name: b, dtype: object"
      ]
     },
     "execution_count": 8,
     "metadata": {},
     "output_type": "execute_result"
    }
   ],
   "source": [
    "df[\"b\"]"
   ]
  },
  {
   "cell_type": "code",
   "execution_count": 12,
   "metadata": {},
   "outputs": [
    {
     "name": "stdout",
     "output_type": "stream",
     "text": [
      "<class 'pandas.core.frame.DataFrame'>\n",
      "RangeIndex: 3 entries, 0 to 2\n",
      "Data columns (total 20 columns):\n",
      " #   Column    Non-Null Count  Dtype \n",
      "---  ------    --------------  ----- \n",
      " 0   병원구분      3 non-null      object\n",
      " 1   환자번호      3 non-null      object\n",
      " 2   수진번호      3 non-null      object\n",
      " 3   검사코드      3 non-null      object\n",
      " 4   검사일시      3 non-null      object\n",
      " 5   검사결과      3 non-null      object\n",
      " 6   검사단위      2 non-null      object\n",
      " 7   검사결과 참고치  3 non-null      object\n",
      " 8   진료과       3 non-null      object\n",
      " 9   의료제공자 ID  3 non-null      object\n",
      " 10  방문유형      3 non-null      object\n",
      " 11  처방순번      3 non-null      object\n",
      " 12  처방코드      0 non-null      object\n",
      " 13  처방명       3 non-null      object\n",
      " 14  처방일시      3 non-null      object\n",
      " 15  진료일시      0 non-null      object\n",
      " 16  접수일시      3 non-null      object\n",
      " 17  실시일시      3 non-null      object\n",
      " 18  판독일시      0 non-null      object\n",
      " 19  보고일시      3 non-null      object\n",
      "dtypes: object(20)\n",
      "memory usage: 612.0+ bytes\n"
     ]
    }
   ],
   "source": [
    "import csv\n",
    "df = pd.read_csv(\"F:\\\\01.감염병데이터베이스\\\\data\\\\dsmc\\\\emr\\\\measurement.csv\", dtype = \"str\",  quoting=csv.QUOTE_ALL)\n",
    "df.info()"
   ]
  },
  {
   "cell_type": "code",
   "execution_count": null,
   "metadata": {},
   "outputs": [],
   "source": []
  }
 ],
 "metadata": {
  "kernelspec": {
   "display_name": "sangil",
   "language": "python",
   "name": "python3"
  },
  "language_info": {
   "codemirror_mode": {
    "name": "ipython",
    "version": 3
   },
   "file_extension": ".py",
   "mimetype": "text/x-python",
   "name": "python",
   "nbconvert_exporter": "python",
   "pygments_lexer": "ipython3",
   "version": "3.11.4"
  }
 },
 "nbformat": 4,
 "nbformat_minor": 2
}
