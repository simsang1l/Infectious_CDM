{
 "cells": [
  {
   "cell_type": "code",
   "execution_count": null,
   "metadata": {},
   "outputs": [],
   "source": [
    "import pandas as pd\n",
    "import os\n",
    "\n",
    "path = 'F:\\\\01.감염병데이터베이스\\\\data\\\\2023_infectious_CDM'\n",
    "df = pd.read_csv(os.path.join(path, 'measurement.csv'))\n",
    "df.isnull().sum()\n",
    "# df[df[\"observation_period_start_date\"].isna()]"
   ]
  },
  {
   "cell_type": "code",
   "execution_count": null,
   "metadata": {},
   "outputs": [],
   "source": [
    "import pandas as pd\n",
    "import os\n",
    "\n",
    "path = 'F:\\\\01.감염병데이터베이스\\\\data\\\\2023_infectious_CDM'\n",
    "df = pd.read_csv(os.path.join(path, 'visit_occurrence.csv'))\n",
    "print(df.isnull().sum())\n",
    "print(len(df))\n",
    "print(df[df[\"person_id\"]==1])"
   ]
  },
  {
   "cell_type": "code",
   "execution_count": null,
   "metadata": {},
   "outputs": [],
   "source": [
    "import pandas as pd\n",
    "import os\n",
    "\n",
    "path = 'F:\\\\01.감염병데이터베이스\\\\data\\\\2023_infectious_CDM'\n",
    "df = pd.read_csv(os.path.join(path, 'condition_occurrence.csv'))\n",
    "print(df.isnull().sum())\n",
    "print(len(df))\n",
    "# df[df[\"observation_period_start_date\"].isna()]"
   ]
  },
  {
   "cell_type": "code",
   "execution_count": null,
   "metadata": {},
   "outputs": [],
   "source": [
    "import pandas as pd\n",
    "import os\n",
    "\n",
    "path = 'F:\\\\01.감염병데이터베이스\\\\data\\\\2023_infectious_CDM'\n",
    "df = pd.read_csv(os.path.join(path, 'drug_exposure.csv'))\n",
    "print(df.isnull().sum())\n",
    "print(len(df))\n",
    "# df[df[\"observation_period_start_date\"].isna()]"
   ]
  },
  {
   "cell_type": "code",
   "execution_count": null,
   "metadata": {},
   "outputs": [],
   "source": [
    "import pandas as pd\n",
    "import os\n",
    "\n",
    "path = 'F:\\\\01.감염병데이터베이스\\\\data\\\\2023_infectious_CDM'\n",
    "df = pd.read_csv(os.path.join(path, 'procedure_occurrence.csv'))\n",
    "print(df[\"procedure_date\"].str.len().unique())\n",
    "print(df[df[\"procedure_date\"].str.len() == 18])\n",
    "print(df.isnull().sum())\n",
    "print(df.info())\n",
    "# df[df[\"observation_period_start_date\"].isna()]"
   ]
  },
  {
   "cell_type": "code",
   "execution_count": null,
   "metadata": {},
   "outputs": [],
   "source": [
    "import pandas as pd\n",
    "import os\n",
    "\n",
    "path = 'F:\\\\01.감염병데이터베이스\\\\data\\\\2023_infectious_CDM'\n",
    "df = pd.read_csv(os.path.join(path, 'local_edi.csv'))\n",
    "df.isnull().sum()\n",
    "# df[df[\"observation_period_start_date\"].isna()]"
   ]
  },
  {
   "cell_type": "code",
   "execution_count": null,
   "metadata": {},
   "outputs": [],
   "source": [
    "import pandas as pd\n",
    "import os\n",
    "\n",
    "path = 'F:\\\\01.감염병데이터베이스\\\\data\\\\2023_infectious_DW'\n",
    "df = pd.read_csv(os.path.join(path, 'ods_mmexmort.csv'), dtype=str)\n",
    "# df1 = pd.read_csv(os.path.join(path, 'ods_stresult.csv'))\n",
    "# df.isnull().sum()\n",
    "# df[df[\"observation_period_start_date\"].isna()]\n",
    "# print(len(df), len(df1))\n",
    "print(df[(df[\"PATNO\"] == \"01423137\") & (df[\"MEDTIME\"]==) ])"
   ]
  },
  {
   "cell_type": "code",
   "execution_count": null,
   "metadata": {},
   "outputs": [],
   "source": [
    "import pandas as pd\n",
    "import os\n",
    "\n",
    "path = 'F:\\\\01.감염병데이터베이스\\\\data\\\\2023_infectious_DW'\n",
    "df = pd.read_csv(os.path.join(path, 'ods_apopdlst.csv'), dtype=str)\n",
    "# df1 = pd.read_csv(os.path.join(path, 'ods_stresult.csv'))\n",
    "# df.isnull().sum()\n",
    "# df[df[\"observation_period_start_date\"].isna()]\n",
    "# print(len(df), len(df1))\n",
    "# data = df[(df[\"PATNO\"] == \"01857874\") & (df[\"MEDTIME\"] == \"201903081045\")]\n",
    "data = df[df[\"MEDTIME\"] == \"200703099000\"]\n",
    "print(data)\n",
    "print(pd.to_datetime(data[\"MEDTIME\"]).astype(str))\n"
   ]
  },
  {
   "cell_type": "code",
   "execution_count": null,
   "metadata": {},
   "outputs": [],
   "source": [
    "import pandas as pd\n",
    "import os\n",
    "\n",
    "path = 'F:\\\\01.감염병데이터베이스\\\\data\\\\DW'\n",
    "df = pd.read_csv(os.path.join(path, 'ods_mmexmort_covid.csv'))\n",
    "df1 = pd.read_csv(os.path.join(path, 'ods_mmexmort_sfts.csv'))\n",
    "df2 = pd.read_csv(os.path.join(path, 'ods_mmexmort_쯔쯔가무시.csv'))\n",
    "# df.isnull().sum()\n",
    "# df[df[\"observation_period_start_date\"].isna()]\n",
    "print(len(df), len(df1), len(df2))"
   ]
  },
  {
   "cell_type": "code",
   "execution_count": null,
   "metadata": {},
   "outputs": [],
   "source": [
    "import pandas as pd\n",
    "import os\n",
    "\n",
    "path = 'D:\\\\00.과제\\\\90.임상약리센터관련\\\\감염병CDM\\\\경북대\\\\최종CDM\\\\cdm_경북대_20231207'\n",
    "df = pd.read_csv(os.path.join(path, 'procedure_occurrence.csv'))\n",
    "# df1 = pd.read_csv(os.path.join(path, 'ods_mmexmort_sfts.csv'))\n",
    "# df2 = pd.read_csv(os.path.join(path, 'ods_mmexmort_쯔쯔가무시.csv'))\n",
    "print(df.isnull().sum())\n",
    "print('-------------')\n",
    "print(len(df))\n",
    "print('-------------')\n",
    "print(df.nunique())"
   ]
  },
  {
   "cell_type": "code",
   "execution_count": null,
   "metadata": {},
   "outputs": [],
   "source": [
    "import pandas as pd\n",
    "import os\n",
    "\n",
    "path = 'D:\\\\00.과제\\\\90.임상약리센터관련\\\\감염병CDM\\\\계명대\\\\DSMC_CDM추출본_20231207'\n",
    "df = pd.read_csv(os.path.join(path, 'observation_period.csv'), encoding = 'CP949')\n",
    "# df1 = pd.read_csv(os.path.join(path, 'ods_mmexmort_sfts.csv'))\n",
    "# df2 = pd.read_csv(os.path.join(path, 'ods_mmexmort_쯔쯔가무시.csv'))\n",
    "print(df.isnull().sum())\n",
    "print('-------------')\n",
    "print(len(df))\n",
    "print('-------------')\n",
    "print(df.nunique())\n",
    "print('-------------')\n",
    "print(df.info())"
   ]
  },
  {
   "cell_type": "code",
   "execution_count": null,
   "metadata": {},
   "outputs": [],
   "source": [
    "import pandas as pd\n",
    "import os\n",
    "\n",
    "path = 'D:\\\\00.과제\\\\90.임상약리센터관련\\\\감염병CDM\\\\전남대\\\\cnuh최종'\n",
    "df = pd.read_csv(os.path.join(path, 'drug_exposure.csv'), encoding = 'CP949')\n",
    "# df1 = pd.read_csv(os.path.join(path, 'ods_mmexmort_sfts.csv'))\n",
    "# df2 = pd.read_csv(os.path.join(path, 'ods_mmexmort_쯔쯔가무시.csv'))\n",
    "print(df.isnull().sum())\n",
    "print('-------------')\n",
    "print(len(df))\n",
    "print('-------unique------')\n",
    "print(df.nunique())\n",
    "print('-------info------')\n",
    "print(df.info())"
   ]
  },
  {
   "cell_type": "code",
   "execution_count": 20,
   "metadata": {},
   "outputs": [
    {
     "name": "stderr",
     "output_type": "stream",
     "text": [
      "C:\\Users\\sangil\\AppData\\Local\\Temp\\ipykernel_43468\\1945202178.py:4: DtypeWarning: Columns (17,19) have mixed types. Specify dtype option on import or set low_memory=False.\n",
      "  m = pd.read_csv(\"F:\\\\01.감염병데이터베이스\\\\data\\\\2023_infectious_CDM\\\\measurement.csv\")\n"
     ]
    },
    {
     "name": "stdout",
     "output_type": "stream",
     "text": [
      "2832831\n",
      "Index(['measurement_id', 'person_id', 'measurement_concept_id',\n",
      "       'measurement_date', 'measurement_datetime', 'measurement_time',\n",
      "       'measurement_type_concept_id', 'operator_concept_id', 'value_as_number',\n",
      "       'value_as_concept_id', 'unit_concept_id', 'range_low', 'range_high',\n",
      "       'provider_id', 'visit_occurrence_id', 'visit_detail_id',\n",
      "       'measurement_source_value', 'measurement_source_concept_id',\n",
      "       'unit_source_value', 'value_source_value', 'vocabulary_id_x',\n",
      "       'concept_id', 'concept_name', 'domain_id', 'vocabulary_id_y',\n",
      "       'concept_class_id', 'standard_concept', 'concept_code',\n",
      "       'valid_start_date', 'valid_end_date', 'invalid_reason'],\n",
      "      dtype='object')\n",
      "[[1 3664 0 '2013-02-01' '2013-02-01 11:02:04' '11:02:04' 44818702 0 30.0\n",
      "  0 nan 5.0 35.0 670.0 285413.0 nan 'L3016' 'B2580' 'IU/L' '30' 'EDI'\n",
      "  4118133 'IU/L' 'Unit' 'SNOMED' 'Qualifier Value' nan '259001000'\n",
      "  '2002-01-31' '2099-12-31' nan]\n",
      " [2 3664 0 '2013-02-01' '2013-02-01 11:02:04' '11:02:04' 44818702 0 95.0\n",
      "  0 nan 45.0 129.0 670.0 285413.0 nan 'L3013' 'B2602' 'IU/L' '95' 'EDI'\n",
      "  4118133 'IU/L' 'Unit' 'SNOMED' 'Qualifier Value' nan '259001000'\n",
      "  '2002-01-31' '2099-12-31' nan]\n",
      " [3 3664 0 '2013-02-01' '2013-02-01 11:02:04' '11:02:04' 44818702 0 72.0\n",
      "  0 nan 12.0 33.0 670.0 285413.0 nan 'L3015' 'B2570' 'IU/L' '72' 'EDI'\n",
      "  4118133 'IU/L' 'Unit' 'SNOMED' 'Qualifier Value' nan '259001000'\n",
      "  '2002-01-31' '2099-12-31' nan]\n",
      " [60 3664 0 '2013-03-05' '2013-03-05 13:05:03' '13:05:03' 44818702 0 23.0\n",
      "  0 nan 5.0 35.0 670.0 285416.0 nan 'L3016' 'B2580' 'IU/L' '23' 'EDI'\n",
      "  4118133 'IU/L' 'Unit' 'SNOMED' 'Qualifier Value' nan '259001000'\n",
      "  '2002-01-31' '2099-12-31' nan]\n",
      " [70 3664 0 '2013-03-05' '2013-03-05 13:05:03' '13:05:03' 44818702 0 73.0\n",
      "  0 nan 45.0 129.0 670.0 285416.0 nan 'L3013' 'B2602' 'IU/L' '73' 'EDI'\n",
      "  4118133 'IU/L' 'Unit' 'SNOMED' 'Qualifier Value' nan '259001000'\n",
      "  '2002-01-31' '2099-12-31' nan]]\n",
      "       concept_name concept_code vocabulary_id_y\n",
      "0              IU/L    259001000          SNOMED\n",
      "189876       mIU/mL    259005009          SNOMED\n",
      "193517         /HPF    259034003          SNOMED\n",
      "352658       uIU/mL    259006005          SNOMED\n",
      "360450         U/mL    258948008          SNOMED\n",
      "366336         mmHg    259018001          SNOMED\n",
      "512462          U/L    258947003          SNOMED\n",
      "661293        IU/mL    259002007          SNOMED\n",
      "664484        uU/mL    258952008          SNOMED\n",
      "664729       mg/day    258835005          SNOMED\n",
      "665383     mmol/day    258846008          SNOMED\n",
      "665474       ug/day    258839004          SNOMED\n",
      "665502         Unit    767525000          SNOMED\n",
      "665508        mEq/L    258865000          SNOMED\n"
     ]
    },
    {
     "data": {
      "text/plain": [
       "665545"
      ]
     },
     "execution_count": 20,
     "metadata": {},
     "output_type": "execute_result"
    }
   ],
   "source": [
    "import pandas as pd\n",
    "\n",
    "df = pd.read_csv(\"../concept_unit.csv\")\n",
    "m = pd.read_csv(\"F:\\\\01.감염병데이터베이스\\\\data\\\\2023_infectious_CDM\\\\measurement.csv\")\n",
    "\n",
    "df = df[(df[\"vocabulary_id\"] == \"SNOMED\")]\n",
    "m = m[m[\"unit_concept_id\"].isnull()]\n",
    "print(len(m))\n",
    "# d = pd.merge(m, df, left_on= \"unit_source_value\", right_on = \"concept_code\", how = \"inner\")\n",
    "d = pd.merge(m, df, left_on= \"unit_source_value\", right_on = \"concept_name\", how = \"inner\")\n",
    "print(d.columns)\n",
    "print(d.head().values)\n",
    "print(d[[\"concept_name\", \"concept_code\", \"vocabulary_id_y\"]].drop_duplicates())\n",
    "len(d)\n"
   ]
  },
  {
   "cell_type": "code",
   "execution_count": 6,
   "metadata": {},
   "outputs": [
    {
     "name": "stdout",
     "output_type": "stream",
     "text": [
      "1000000000\n"
     ]
    }
   ],
   "source": [
    "print(10**9)"
   ]
  },
  {
   "cell_type": "code",
   "execution_count": 26,
   "metadata": {},
   "outputs": [
    {
     "data": {
      "text/html": [
       "<div>\n",
       "<style scoped>\n",
       "    .dataframe tbody tr th:only-of-type {\n",
       "        vertical-align: middle;\n",
       "    }\n",
       "\n",
       "    .dataframe tbody tr th {\n",
       "        vertical-align: top;\n",
       "    }\n",
       "\n",
       "    .dataframe thead th {\n",
       "        text-align: right;\n",
       "    }\n",
       "</style>\n",
       "<table border=\"1\" class=\"dataframe\">\n",
       "  <thead>\n",
       "    <tr style=\"text-align: right;\">\n",
       "      <th></th>\n",
       "      <th>0</th>\n",
       "      <th>1</th>\n",
       "    </tr>\n",
       "  </thead>\n",
       "  <tbody>\n",
       "    <tr>\n",
       "      <th>0</th>\n",
       "      <td>9438</td>\n",
       "      <td>/10^5</td>\n",
       "    </tr>\n",
       "    <tr>\n",
       "      <th>1</th>\n",
       "      <td>8549</td>\n",
       "      <td>/10^6</td>\n",
       "    </tr>\n",
       "  </tbody>\n",
       "</table>\n",
       "</div>"
      ],
      "text/plain": [
       "      0      1\n",
       "0  9438  /10^5\n",
       "1  8549  /10^6"
      ]
     },
     "execution_count": 26,
     "metadata": {},
     "output_type": "execute_result"
    }
   ],
   "source": [
    "import pandas as pd\n",
    "\n",
    "df = [\n",
    "\t[9438, \"/10^5\"],\n",
    "\t[8549, \"/10^6\"]\n",
    "]\n",
    "df = pd.DataFrame(df)\n",
    "df"
   ]
  },
  {
   "cell_type": "code",
   "execution_count": 5,
   "metadata": {},
   "outputs": [
    {
     "name": "stderr",
     "output_type": "stream",
     "text": [
      "C:\\Users\\sangil\\AppData\\Local\\Temp\\ipykernel_34900\\4029710789.py:13: DtypeWarning: Columns (17,19) have mixed types. Specify dtype option on import or set low_memory=False.\n",
      "  measurement = pd.read_csv(os.path.join(config[\"CDM_path\"], \"measurement.csv\"))\n"
     ]
    }
   ],
   "source": [
    "import pandas as pd\n",
    "import yaml, os\n",
    "\n",
    "def load_config(config_path):\n",
    "    \"\"\"\n",
    "    YAML 설정 파일을 로드합니다.\n",
    "    \"\"\"\n",
    "    with open(config_path, 'r', encoding=\"utf-8\") as file:\n",
    "        return yaml.safe_load(file)\n",
    "    \n",
    "config = load_config(\"config.yaml\")\n",
    "\n",
    "measurement = pd.read_csv(os.path.join(config[\"CDM_path\"], \"measurement.csv\"))\n",
    "concept_synonym = pd.read_csv(os.path.join(config[\"CDM_path\"], \"unit_concept_synonym.csv\"))\n",
    "\n",
    "df = pd.merge(measurement, concept_synonym, left_on=\"unit_source_value\", right_on=\"concept_synonym_name\", how = \"left\")\n",
    "df = df[[\"unit_concept_id\", \"unit_source_value\", \"concept_id\"]].drop_duplicates()\n",
    "df[\"unit_concept_id\"] = df[\"unit_concept_id\"].combine_first(df[\"concept_id\"])\n",
    "\n",
    "df[[\"unit_concept_id\", \"unit_source_value\"]].to_csv(\"./unit_concept_id_list.csv\", index = False)\n",
    "\n"
   ]
  },
  {
   "cell_type": "code",
   "execution_count": 7,
   "metadata": {},
   "outputs": [
    {
     "data": {
      "text/html": [
       "<div>\n",
       "<style scoped>\n",
       "    .dataframe tbody tr th:only-of-type {\n",
       "        vertical-align: middle;\n",
       "    }\n",
       "\n",
       "    .dataframe tbody tr th {\n",
       "        vertical-align: top;\n",
       "    }\n",
       "\n",
       "    .dataframe thead th {\n",
       "        text-align: right;\n",
       "    }\n",
       "</style>\n",
       "<table border=\"1\" class=\"dataframe\">\n",
       "  <thead>\n",
       "    <tr style=\"text-align: right;\">\n",
       "      <th></th>\n",
       "      <th>concept_synonym 적용 전 매핑률</th>\n",
       "      <th>concept_synonym 적용 후 매핑률</th>\n",
       "    </tr>\n",
       "  </thead>\n",
       "  <tbody>\n",
       "    <tr>\n",
       "      <th>0</th>\n",
       "      <td>0.1</td>\n",
       "      <td>0.2</td>\n",
       "    </tr>\n",
       "  </tbody>\n",
       "</table>\n",
       "</div>"
      ],
      "text/plain": [
       "   concept_synonym 적용 전 매핑률  concept_synonym 적용 후 매핑률\n",
       "0                       0.1                       0.2"
      ]
     },
     "execution_count": 7,
     "metadata": {},
     "output_type": "execute_result"
    }
   ],
   "source": [
    "import pandas as pd\n",
    "map_rate = {\n",
    "    \"concept_synonym 적용 전 매핑률\": [0.1],\n",
    "    \"concept_synonym 적용 후 매핑률\": [0.2]\n",
    "            }\n",
    "pd.DataFrame(map_rate)"
   ]
  },
  {
   "cell_type": "code",
   "execution_count": 6,
   "metadata": {},
   "outputs": [
    {
     "name": "stderr",
     "output_type": "stream",
     "text": [
      "C:\\Users\\sangil\\AppData\\Local\\Temp\\ipykernel_36112\\1815504893.py:3: DtypeWarning: Columns (9,11,12,21,27,28,29,30,33,34,35,36,37,38,41,42,43,45,47,49,51,52,55,58,59,60,61,67,69,71,72,76,77,81,82,83,85,86,87,90,92,93,94,95,97,99,101,103,105,106,107,118,123,126,127,131,132,133,135,136,137,138,139,141,142,143,144,146,149,150,151,156,158,159,161,162,164,176,177) have mixed types. Specify dtype option on import or set low_memory=False.\n",
      "  df = pd.read_csv(\"F:\\\\01.감염병데이터베이스\\\\data\\\\2024_infectious_DW\\\\dw_mmcuhort.csv\", lineterminator='\\n')\n"
     ]
    },
    {
     "ename": "MemoryError",
     "evalue": "Unable to allocate 10.7 GiB for an array with shape (119, 12072568) and data type object",
     "output_type": "error",
     "traceback": [
      "\u001b[1;31m---------------------------------------------------------------------------\u001b[0m",
      "\u001b[1;31mMemoryError\u001b[0m                               Traceback (most recent call last)",
      "Cell \u001b[1;32mIn[6], line 3\u001b[0m\n\u001b[0;32m      1\u001b[0m \u001b[38;5;28;01mimport\u001b[39;00m \u001b[38;5;21;01mpandas\u001b[39;00m \u001b[38;5;28;01mas\u001b[39;00m \u001b[38;5;21;01mpd\u001b[39;00m\n\u001b[1;32m----> 3\u001b[0m df \u001b[38;5;241m=\u001b[39m pd\u001b[38;5;241m.\u001b[39mread_csv(\u001b[38;5;124m\"\u001b[39m\u001b[38;5;124mF:\u001b[39m\u001b[38;5;130;01m\\\\\u001b[39;00m\u001b[38;5;124m01.감염병데이터베이스\u001b[39m\u001b[38;5;130;01m\\\\\u001b[39;00m\u001b[38;5;124mdata\u001b[39m\u001b[38;5;130;01m\\\\\u001b[39;00m\u001b[38;5;124m2024_infectious_DW\u001b[39m\u001b[38;5;130;01m\\\\\u001b[39;00m\u001b[38;5;124mdw_mmcuhort.csv\u001b[39m\u001b[38;5;124m\"\u001b[39m, lineterminator\u001b[38;5;241m=\u001b[39m\u001b[38;5;124m'\u001b[39m\u001b[38;5;130;01m\\n\u001b[39;00m\u001b[38;5;124m'\u001b[39m)\n\u001b[0;32m      4\u001b[0m \u001b[38;5;66;03m# print(len(df))\u001b[39;00m\n\u001b[0;32m      6\u001b[0m drug_list \u001b[38;5;241m=\u001b[39m [\u001b[38;5;124m\"\u001b[39m\u001b[38;5;124mDAMOXAC\u001b[39m\u001b[38;5;124m\"\u001b[39m ,\u001b[38;5;124m\"\u001b[39m\u001b[38;5;124mDAMOXI50\u001b[39m\u001b[38;5;124m\"\u001b[39m ,\u001b[38;5;124m\"\u001b[39m\u001b[38;5;124mDAUGME625\u001b[39m\u001b[38;5;124m\"\u001b[39m ,\u001b[38;5;124m\"\u001b[39m\u001b[38;5;124mDAUGMEN\u001b[39m\u001b[38;5;124m\"\u001b[39m ,\u001b[38;5;124m\"\u001b[39m\u001b[38;5;124mDAVELOX\u001b[39m\u001b[38;5;124m\"\u001b[39m ,\u001b[38;5;124m\"\u001b[39m\u001b[38;5;124mDBANAN\u001b[39m\u001b[38;5;124m\"\u001b[39m ,\u001b[38;5;124m\"\u001b[39m\u001b[38;5;124mDCECLOR\u001b[39m\u001b[38;5;124m\"\u001b[39m ,\u001b[38;5;124m\"\u001b[39m\u001b[38;5;124mDCEFZIL\u001b[39m\u001b[38;5;124m\"\u001b[39m ,\u001b[38;5;124m\"\u001b[39m\u001b[38;5;124mDCRAVIT\u001b[39m\u001b[38;5;124m\"\u001b[39m ,\u001b[38;5;124m\"\u001b[39m\u001b[38;5;124mDCRAVIT500\u001b[39m\u001b[38;5;124m\"\u001b[39m ,\n\u001b[0;32m      7\u001b[0m \u001b[38;5;124m\"\u001b[39m\u001b[38;5;124mDCYCIN\u001b[39m\u001b[38;5;124m\"\u001b[39m ,\u001b[38;5;124m\"\u001b[39m\u001b[38;5;124mDFACTIVE\u001b[39m\u001b[38;5;124m\"\u001b[39m ,\u001b[38;5;124m\"\u001b[39m\u001b[38;5;124mDFLASIN\u001b[39m\u001b[38;5;124m\"\u001b[39m ,\u001b[38;5;124m\"\u001b[39m\u001b[38;5;124mDKLARI500\u001b[39m\u001b[38;5;124m\"\u001b[39m ,\u001b[38;5;124m\"\u001b[39m\u001b[38;5;124mDKLASIT\u001b[39m\u001b[38;5;124m\"\u001b[39m ,\u001b[38;5;124m\"\u001b[39m\u001b[38;5;124mDKSACIN\u001b[39m\u001b[38;5;124m\"\u001b[39m ,\u001b[38;5;124m\"\u001b[39m\u001b[38;5;124mDLEVOPLUS\u001b[39m\u001b[38;5;124m\"\u001b[39m ,\u001b[38;5;124m\"\u001b[39m\u001b[38;5;124mDMEIACT\u001b[39m\u001b[38;5;124m\"\u001b[39m ,\u001b[38;5;124m\"\u001b[39m\u001b[38;5;124mDMESEXIN\u001b[39m\u001b[38;5;124m\"\u001b[39m ,\u001b[38;5;124m\"\u001b[39m\u001b[38;5;124mDMINOCI\u001b[39m\u001b[38;5;124m\"\u001b[39m ,\u001b[38;5;124m\"\u001b[39m\u001b[38;5;124mDMONUR-PG\u001b[39m\u001b[38;5;124m\"\u001b[39m ,\n\u001b[0;32m      8\u001b[0m \u001b[38;5;124m\"\u001b[39m\u001b[38;5;124mDOMNICEF\u001b[39m\u001b[38;5;124m\"\u001b[39m ,\u001b[38;5;124m\"\u001b[39m\u001b[38;5;124mDOZEX\u001b[39m\u001b[38;5;124m\"\u001b[39m ,\u001b[38;5;124m\"\u001b[39m\u001b[38;5;124mDRULID\u001b[39m\u001b[38;5;124m\"\u001b[39m ,\u001b[38;5;124m\"\u001b[39m\u001b[38;5;124mDSEPTRI\u001b[39m\u001b[38;5;124m\"\u001b[39m ,\u001b[38;5;124m\"\u001b[39m\u001b[38;5;124mDSUPRAX\u001b[39m\u001b[38;5;124m\"\u001b[39m ,\u001b[38;5;124m\"\u001b[39m\u001b[38;5;124mDTIROXIN\u001b[39m\u001b[38;5;124m\"\u001b[39m ,\u001b[38;5;124m\"\u001b[39m\u001b[38;5;124mDZINNAT\u001b[39m\u001b[38;5;124m\"\u001b[39m ,\u001b[38;5;124m\"\u001b[39m\u001b[38;5;124mWAMIKIN\u001b[39m\u001b[38;5;124m\"\u001b[39m ,\u001b[38;5;124m\"\u001b[39m\u001b[38;5;124mWAMIKT5\u001b[39m\u001b[38;5;124m\"\u001b[39m ,\u001b[38;5;124m\"\u001b[39m\u001b[38;5;124mWAUGMEJ\u001b[39m\u001b[38;5;124m\"\u001b[39m ,\u001b[38;5;124m\"\u001b[39m\u001b[38;5;124mWAVELOX\u001b[39m\u001b[38;5;124m\"\u001b[39m ,\n\u001b[1;32m   (...)\u001b[0m\n\u001b[0;32m     13\u001b[0m \u001b[38;5;124m\"\u001b[39m\u001b[38;5;124mDVIDOXY\u001b[39m\u001b[38;5;124m\"\u001b[39m ,\u001b[38;5;124m\"\u001b[39m\u001b[38;5;124mDDOXYCYCL\u001b[39m\u001b[38;5;124m\"\u001b[39m ,\u001b[38;5;124m\"\u001b[39m\u001b[38;5;124mDVIBRAT\u001b[39m\u001b[38;5;124m\"\u001b[39m ,\u001b[38;5;124m\"\u001b[39m\u001b[38;5;124mDVIBRAT\u001b[39m\u001b[38;5;124m\"\u001b[39m ,\u001b[38;5;124m\"\u001b[39m\u001b[38;5;124mDVIBRAT\u001b[39m\u001b[38;5;124m\"\u001b[39m ,\u001b[38;5;124m\"\u001b[39m\u001b[38;5;124mWVIBRAI\u001b[39m\u001b[38;5;124m\"\u001b[39m ,\u001b[38;5;124m\"\u001b[39m\u001b[38;5;124mWAZITOPS\u001b[39m\u001b[38;5;124m\"\u001b[39m ,\u001b[38;5;124m\"\u001b[39m\u001b[38;5;124mDZITHROT\u001b[39m\u001b[38;5;124m\"\u001b[39m ,\u001b[38;5;124m\"\u001b[39m\u001b[38;5;124mWZITHRO\u001b[39m\u001b[38;5;124m\"\u001b[39m ,\u001b[38;5;124m\"\u001b[39m\u001b[38;5;124mDZITHRO6-S\u001b[39m\u001b[38;5;124m\"\u001b[39m ,\n\u001b[0;32m     14\u001b[0m \u001b[38;5;124m\"\u001b[39m\u001b[38;5;124mWZITHRO\u001b[39m\u001b[38;5;124m\"\u001b[39m ,\u001b[38;5;124m\"\u001b[39m\u001b[38;5;124mDZITHRO6-S\u001b[39m\u001b[38;5;124m\"\u001b[39m ,\u001b[38;5;124m\"\u001b[39m\u001b[38;5;124mDZITHRO6-S\u001b[39m\u001b[38;5;124m\"\u001b[39m ,\u001b[38;5;124m\"\u001b[39m\u001b[38;5;124mDZITHROT\u001b[39m\u001b[38;5;124m\"\u001b[39m ,\u001b[38;5;124m\"\u001b[39m\u001b[38;5;124mDZITHROT\u001b[39m\u001b[38;5;124m\"\u001b[39m ,\u001b[38;5;124m\"\u001b[39m\u001b[38;5;124mDZITHROT\u001b[39m\u001b[38;5;124m\"\u001b[39m ,\u001b[38;5;124m\"\u001b[39m\u001b[38;5;124mDZITHRO6-S\u001b[39m\u001b[38;5;124m\"\u001b[39m ,\u001b[38;5;124m\"\u001b[39m\u001b[38;5;124mDZITHRO9-S\u001b[39m\u001b[38;5;124m\"\u001b[39m ,\u001b[38;5;124m\"\u001b[39m\u001b[38;5;124mDZITHROT\u001b[39m\u001b[38;5;124m\"\u001b[39m ,\u001b[38;5;124m\"\u001b[39m\u001b[38;5;124mDZITHRO\u001b[39m\u001b[38;5;124m\"\u001b[39m ]\n",
      "File \u001b[1;32mc:\\Users\\sangil\\anaconda3\\envs\\sangil\\Lib\\site-packages\\pandas\\util\\_decorators.py:311\u001b[0m, in \u001b[0;36mdeprecate_nonkeyword_arguments.<locals>.decorate.<locals>.wrapper\u001b[1;34m(*args, **kwargs)\u001b[0m\n\u001b[0;32m    305\u001b[0m \u001b[38;5;28;01mif\u001b[39;00m \u001b[38;5;28mlen\u001b[39m(args) \u001b[38;5;241m>\u001b[39m num_allow_args:\n\u001b[0;32m    306\u001b[0m     warnings\u001b[38;5;241m.\u001b[39mwarn(\n\u001b[0;32m    307\u001b[0m         msg\u001b[38;5;241m.\u001b[39mformat(arguments\u001b[38;5;241m=\u001b[39marguments),\n\u001b[0;32m    308\u001b[0m         \u001b[38;5;167;01mFutureWarning\u001b[39;00m,\n\u001b[0;32m    309\u001b[0m         stacklevel\u001b[38;5;241m=\u001b[39mstacklevel,\n\u001b[0;32m    310\u001b[0m     )\n\u001b[1;32m--> 311\u001b[0m \u001b[38;5;28;01mreturn\u001b[39;00m func(\u001b[38;5;241m*\u001b[39margs, \u001b[38;5;241m*\u001b[39m\u001b[38;5;241m*\u001b[39mkwargs)\n",
      "File \u001b[1;32mc:\\Users\\sangil\\anaconda3\\envs\\sangil\\Lib\\site-packages\\pandas\\io\\parsers\\readers.py:678\u001b[0m, in \u001b[0;36mread_csv\u001b[1;34m(filepath_or_buffer, sep, delimiter, header, names, index_col, usecols, squeeze, prefix, mangle_dupe_cols, dtype, engine, converters, true_values, false_values, skipinitialspace, skiprows, skipfooter, nrows, na_values, keep_default_na, na_filter, verbose, skip_blank_lines, parse_dates, infer_datetime_format, keep_date_col, date_parser, dayfirst, cache_dates, iterator, chunksize, compression, thousands, decimal, lineterminator, quotechar, quoting, doublequote, escapechar, comment, encoding, encoding_errors, dialect, error_bad_lines, warn_bad_lines, on_bad_lines, delim_whitespace, low_memory, memory_map, float_precision, storage_options)\u001b[0m\n\u001b[0;32m    663\u001b[0m kwds_defaults \u001b[38;5;241m=\u001b[39m _refine_defaults_read(\n\u001b[0;32m    664\u001b[0m     dialect,\n\u001b[0;32m    665\u001b[0m     delimiter,\n\u001b[1;32m   (...)\u001b[0m\n\u001b[0;32m    674\u001b[0m     defaults\u001b[38;5;241m=\u001b[39m{\u001b[38;5;124m\"\u001b[39m\u001b[38;5;124mdelimiter\u001b[39m\u001b[38;5;124m\"\u001b[39m: \u001b[38;5;124m\"\u001b[39m\u001b[38;5;124m,\u001b[39m\u001b[38;5;124m\"\u001b[39m},\n\u001b[0;32m    675\u001b[0m )\n\u001b[0;32m    676\u001b[0m kwds\u001b[38;5;241m.\u001b[39mupdate(kwds_defaults)\n\u001b[1;32m--> 678\u001b[0m \u001b[38;5;28;01mreturn\u001b[39;00m _read(filepath_or_buffer, kwds)\n",
      "File \u001b[1;32mc:\\Users\\sangil\\anaconda3\\envs\\sangil\\Lib\\site-packages\\pandas\\io\\parsers\\readers.py:581\u001b[0m, in \u001b[0;36m_read\u001b[1;34m(filepath_or_buffer, kwds)\u001b[0m\n\u001b[0;32m    578\u001b[0m     \u001b[38;5;28;01mreturn\u001b[39;00m parser\n\u001b[0;32m    580\u001b[0m \u001b[38;5;28;01mwith\u001b[39;00m parser:\n\u001b[1;32m--> 581\u001b[0m     \u001b[38;5;28;01mreturn\u001b[39;00m parser\u001b[38;5;241m.\u001b[39mread(nrows)\n",
      "File \u001b[1;32mc:\\Users\\sangil\\anaconda3\\envs\\sangil\\Lib\\site-packages\\pandas\\io\\parsers\\readers.py:1268\u001b[0m, in \u001b[0;36mTextFileReader.read\u001b[1;34m(self, nrows)\u001b[0m\n\u001b[0;32m   1265\u001b[0m     \u001b[38;5;28;01melse\u001b[39;00m:\n\u001b[0;32m   1266\u001b[0m         new_rows \u001b[38;5;241m=\u001b[39m \u001b[38;5;28mlen\u001b[39m(index)\n\u001b[1;32m-> 1268\u001b[0m     df \u001b[38;5;241m=\u001b[39m DataFrame(col_dict, columns\u001b[38;5;241m=\u001b[39mcolumns, index\u001b[38;5;241m=\u001b[39mindex)\n\u001b[0;32m   1270\u001b[0m     \u001b[38;5;28mself\u001b[39m\u001b[38;5;241m.\u001b[39m_currow \u001b[38;5;241m+\u001b[39m\u001b[38;5;241m=\u001b[39m new_rows\n\u001b[0;32m   1272\u001b[0m \u001b[38;5;28;01mif\u001b[39;00m \u001b[38;5;28mself\u001b[39m\u001b[38;5;241m.\u001b[39msqueeze \u001b[38;5;129;01mand\u001b[39;00m \u001b[38;5;28mlen\u001b[39m(df\u001b[38;5;241m.\u001b[39mcolumns) \u001b[38;5;241m==\u001b[39m \u001b[38;5;241m1\u001b[39m:\n",
      "File \u001b[1;32mc:\\Users\\sangil\\anaconda3\\envs\\sangil\\Lib\\site-packages\\pandas\\core\\frame.py:636\u001b[0m, in \u001b[0;36mDataFrame.__init__\u001b[1;34m(self, data, index, columns, dtype, copy)\u001b[0m\n\u001b[0;32m    630\u001b[0m     mgr \u001b[38;5;241m=\u001b[39m \u001b[38;5;28mself\u001b[39m\u001b[38;5;241m.\u001b[39m_init_mgr(\n\u001b[0;32m    631\u001b[0m         data, axes\u001b[38;5;241m=\u001b[39m{\u001b[38;5;124m\"\u001b[39m\u001b[38;5;124mindex\u001b[39m\u001b[38;5;124m\"\u001b[39m: index, \u001b[38;5;124m\"\u001b[39m\u001b[38;5;124mcolumns\u001b[39m\u001b[38;5;124m\"\u001b[39m: columns}, dtype\u001b[38;5;241m=\u001b[39mdtype, copy\u001b[38;5;241m=\u001b[39mcopy\n\u001b[0;32m    632\u001b[0m     )\n\u001b[0;32m    634\u001b[0m \u001b[38;5;28;01melif\u001b[39;00m \u001b[38;5;28misinstance\u001b[39m(data, \u001b[38;5;28mdict\u001b[39m):\n\u001b[0;32m    635\u001b[0m     \u001b[38;5;66;03m# GH#38939 de facto copy defaults to False only in non-dict cases\u001b[39;00m\n\u001b[1;32m--> 636\u001b[0m     mgr \u001b[38;5;241m=\u001b[39m dict_to_mgr(data, index, columns, dtype\u001b[38;5;241m=\u001b[39mdtype, copy\u001b[38;5;241m=\u001b[39mcopy, typ\u001b[38;5;241m=\u001b[39mmanager)\n\u001b[0;32m    637\u001b[0m \u001b[38;5;28;01melif\u001b[39;00m \u001b[38;5;28misinstance\u001b[39m(data, ma\u001b[38;5;241m.\u001b[39mMaskedArray):\n\u001b[0;32m    638\u001b[0m     \u001b[38;5;28;01mimport\u001b[39;00m \u001b[38;5;21;01mnumpy\u001b[39;00m\u001b[38;5;21;01m.\u001b[39;00m\u001b[38;5;21;01mma\u001b[39;00m\u001b[38;5;21;01m.\u001b[39;00m\u001b[38;5;21;01mmrecords\u001b[39;00m \u001b[38;5;28;01mas\u001b[39;00m \u001b[38;5;21;01mmrecords\u001b[39;00m\n",
      "File \u001b[1;32mc:\\Users\\sangil\\anaconda3\\envs\\sangil\\Lib\\site-packages\\pandas\\core\\internals\\construction.py:502\u001b[0m, in \u001b[0;36mdict_to_mgr\u001b[1;34m(data, index, columns, dtype, typ, copy)\u001b[0m\n\u001b[0;32m    494\u001b[0m     arrays \u001b[38;5;241m=\u001b[39m [\n\u001b[0;32m    495\u001b[0m         x\n\u001b[0;32m    496\u001b[0m         \u001b[38;5;28;01mif\u001b[39;00m \u001b[38;5;129;01mnot\u001b[39;00m \u001b[38;5;28mhasattr\u001b[39m(x, \u001b[38;5;124m\"\u001b[39m\u001b[38;5;124mdtype\u001b[39m\u001b[38;5;124m\"\u001b[39m) \u001b[38;5;129;01mor\u001b[39;00m \u001b[38;5;129;01mnot\u001b[39;00m \u001b[38;5;28misinstance\u001b[39m(x\u001b[38;5;241m.\u001b[39mdtype, ExtensionDtype)\n\u001b[0;32m    497\u001b[0m         \u001b[38;5;28;01melse\u001b[39;00m x\u001b[38;5;241m.\u001b[39mcopy()\n\u001b[0;32m    498\u001b[0m         \u001b[38;5;28;01mfor\u001b[39;00m x \u001b[38;5;129;01min\u001b[39;00m arrays\n\u001b[0;32m    499\u001b[0m     ]\n\u001b[0;32m    500\u001b[0m     \u001b[38;5;66;03m# TODO: can we get rid of the dt64tz special case above?\u001b[39;00m\n\u001b[1;32m--> 502\u001b[0m \u001b[38;5;28;01mreturn\u001b[39;00m arrays_to_mgr(arrays, columns, index, dtype\u001b[38;5;241m=\u001b[39mdtype, typ\u001b[38;5;241m=\u001b[39mtyp, consolidate\u001b[38;5;241m=\u001b[39mcopy)\n",
      "File \u001b[1;32mc:\\Users\\sangil\\anaconda3\\envs\\sangil\\Lib\\site-packages\\pandas\\core\\internals\\construction.py:156\u001b[0m, in \u001b[0;36marrays_to_mgr\u001b[1;34m(arrays, columns, index, dtype, verify_integrity, typ, consolidate)\u001b[0m\n\u001b[0;32m    153\u001b[0m axes \u001b[38;5;241m=\u001b[39m [columns, index]\n\u001b[0;32m    155\u001b[0m \u001b[38;5;28;01mif\u001b[39;00m typ \u001b[38;5;241m==\u001b[39m \u001b[38;5;124m\"\u001b[39m\u001b[38;5;124mblock\u001b[39m\u001b[38;5;124m\"\u001b[39m:\n\u001b[1;32m--> 156\u001b[0m     \u001b[38;5;28;01mreturn\u001b[39;00m create_block_manager_from_column_arrays(\n\u001b[0;32m    157\u001b[0m         arrays, axes, consolidate\u001b[38;5;241m=\u001b[39mconsolidate\n\u001b[0;32m    158\u001b[0m     )\n\u001b[0;32m    159\u001b[0m \u001b[38;5;28;01melif\u001b[39;00m typ \u001b[38;5;241m==\u001b[39m \u001b[38;5;124m\"\u001b[39m\u001b[38;5;124marray\u001b[39m\u001b[38;5;124m\"\u001b[39m:\n\u001b[0;32m    160\u001b[0m     \u001b[38;5;28;01mreturn\u001b[39;00m ArrayManager(arrays, [index, columns])\n",
      "File \u001b[1;32mc:\\Users\\sangil\\anaconda3\\envs\\sangil\\Lib\\site-packages\\pandas\\core\\internals\\managers.py:1973\u001b[0m, in \u001b[0;36mcreate_block_manager_from_column_arrays\u001b[1;34m(arrays, axes, consolidate)\u001b[0m\n\u001b[0;32m   1971\u001b[0m     \u001b[38;5;28;01mraise\u001b[39;00m construction_error(\u001b[38;5;28mlen\u001b[39m(arrays), arrays[\u001b[38;5;241m0\u001b[39m]\u001b[38;5;241m.\u001b[39mshape, axes, e)\n\u001b[0;32m   1972\u001b[0m \u001b[38;5;28;01mif\u001b[39;00m consolidate:\n\u001b[1;32m-> 1973\u001b[0m     mgr\u001b[38;5;241m.\u001b[39m_consolidate_inplace()\n\u001b[0;32m   1974\u001b[0m \u001b[38;5;28;01mreturn\u001b[39;00m mgr\n",
      "File \u001b[1;32mc:\\Users\\sangil\\anaconda3\\envs\\sangil\\Lib\\site-packages\\pandas\\core\\internals\\managers.py:1699\u001b[0m, in \u001b[0;36mBlockManager._consolidate_inplace\u001b[1;34m(self)\u001b[0m\n\u001b[0;32m   1693\u001b[0m \u001b[38;5;28;01mdef\u001b[39;00m \u001b[38;5;21m_consolidate_inplace\u001b[39m(\u001b[38;5;28mself\u001b[39m) \u001b[38;5;241m-\u001b[39m\u001b[38;5;241m>\u001b[39m \u001b[38;5;28;01mNone\u001b[39;00m:\n\u001b[0;32m   1694\u001b[0m     \u001b[38;5;66;03m# In general, _consolidate_inplace should only be called via\u001b[39;00m\n\u001b[0;32m   1695\u001b[0m     \u001b[38;5;66;03m#  DataFrame._consolidate_inplace, otherwise we will fail to invalidate\u001b[39;00m\n\u001b[0;32m   1696\u001b[0m     \u001b[38;5;66;03m#  the DataFrame's _item_cache. The exception is for newly-created\u001b[39;00m\n\u001b[0;32m   1697\u001b[0m     \u001b[38;5;66;03m#  BlockManager objects not yet attached to a DataFrame.\u001b[39;00m\n\u001b[0;32m   1698\u001b[0m     \u001b[38;5;28;01mif\u001b[39;00m \u001b[38;5;129;01mnot\u001b[39;00m \u001b[38;5;28mself\u001b[39m\u001b[38;5;241m.\u001b[39mis_consolidated():\n\u001b[1;32m-> 1699\u001b[0m         \u001b[38;5;28mself\u001b[39m\u001b[38;5;241m.\u001b[39mblocks \u001b[38;5;241m=\u001b[39m \u001b[38;5;28mtuple\u001b[39m(_consolidate(\u001b[38;5;28mself\u001b[39m\u001b[38;5;241m.\u001b[39mblocks))\n\u001b[0;32m   1700\u001b[0m         \u001b[38;5;28mself\u001b[39m\u001b[38;5;241m.\u001b[39m_is_consolidated \u001b[38;5;241m=\u001b[39m \u001b[38;5;28;01mTrue\u001b[39;00m\n\u001b[0;32m   1701\u001b[0m         \u001b[38;5;28mself\u001b[39m\u001b[38;5;241m.\u001b[39m_known_consolidated \u001b[38;5;241m=\u001b[39m \u001b[38;5;28;01mTrue\u001b[39;00m\n",
      "File \u001b[1;32mc:\\Users\\sangil\\anaconda3\\envs\\sangil\\Lib\\site-packages\\pandas\\core\\internals\\managers.py:2098\u001b[0m, in \u001b[0;36m_consolidate\u001b[1;34m(blocks)\u001b[0m\n\u001b[0;32m   2096\u001b[0m new_blocks: \u001b[38;5;28mlist\u001b[39m[Block] \u001b[38;5;241m=\u001b[39m []\n\u001b[0;32m   2097\u001b[0m \u001b[38;5;28;01mfor\u001b[39;00m (_can_consolidate, dtype), group_blocks \u001b[38;5;129;01min\u001b[39;00m grouper:\n\u001b[1;32m-> 2098\u001b[0m     merged_blocks \u001b[38;5;241m=\u001b[39m _merge_blocks(\n\u001b[0;32m   2099\u001b[0m         \u001b[38;5;28mlist\u001b[39m(group_blocks), dtype\u001b[38;5;241m=\u001b[39mdtype, can_consolidate\u001b[38;5;241m=\u001b[39m_can_consolidate\n\u001b[0;32m   2100\u001b[0m     )\n\u001b[0;32m   2101\u001b[0m     new_blocks \u001b[38;5;241m=\u001b[39m extend_blocks(merged_blocks, new_blocks)\n\u001b[0;32m   2102\u001b[0m \u001b[38;5;28;01mreturn\u001b[39;00m new_blocks\n",
      "File \u001b[1;32mc:\\Users\\sangil\\anaconda3\\envs\\sangil\\Lib\\site-packages\\pandas\\core\\internals\\managers.py:2125\u001b[0m, in \u001b[0;36m_merge_blocks\u001b[1;34m(blocks, dtype, can_consolidate)\u001b[0m\n\u001b[0;32m   2118\u001b[0m new_values: ArrayLike\n\u001b[0;32m   2120\u001b[0m \u001b[38;5;28;01mif\u001b[39;00m \u001b[38;5;28misinstance\u001b[39m(blocks[\u001b[38;5;241m0\u001b[39m]\u001b[38;5;241m.\u001b[39mdtype, np\u001b[38;5;241m.\u001b[39mdtype):\n\u001b[0;32m   2121\u001b[0m     \u001b[38;5;66;03m# error: List comprehension has incompatible type List[Union[ndarray,\u001b[39;00m\n\u001b[0;32m   2122\u001b[0m     \u001b[38;5;66;03m# ExtensionArray]]; expected List[Union[complex, generic,\u001b[39;00m\n\u001b[0;32m   2123\u001b[0m     \u001b[38;5;66;03m# Sequence[Union[int, float, complex, str, bytes, generic]],\u001b[39;00m\n\u001b[0;32m   2124\u001b[0m     \u001b[38;5;66;03m# Sequence[Sequence[Any]], SupportsArray]]\u001b[39;00m\n\u001b[1;32m-> 2125\u001b[0m     new_values \u001b[38;5;241m=\u001b[39m np\u001b[38;5;241m.\u001b[39mvstack([b\u001b[38;5;241m.\u001b[39mvalues \u001b[38;5;28;01mfor\u001b[39;00m b \u001b[38;5;129;01min\u001b[39;00m blocks])  \u001b[38;5;66;03m# type: ignore[misc]\u001b[39;00m\n\u001b[0;32m   2126\u001b[0m \u001b[38;5;28;01melse\u001b[39;00m:\n\u001b[0;32m   2127\u001b[0m     bvals \u001b[38;5;241m=\u001b[39m [blk\u001b[38;5;241m.\u001b[39mvalues \u001b[38;5;28;01mfor\u001b[39;00m blk \u001b[38;5;129;01min\u001b[39;00m blocks]\n",
      "File \u001b[1;32m<__array_function__ internals>:180\u001b[0m, in \u001b[0;36mvstack\u001b[1;34m(*args, **kwargs)\u001b[0m\n",
      "File \u001b[1;32mc:\\Users\\sangil\\anaconda3\\envs\\sangil\\Lib\\site-packages\\numpy\\core\\shape_base.py:282\u001b[0m, in \u001b[0;36mvstack\u001b[1;34m(tup)\u001b[0m\n\u001b[0;32m    280\u001b[0m \u001b[38;5;28;01mif\u001b[39;00m \u001b[38;5;129;01mnot\u001b[39;00m \u001b[38;5;28misinstance\u001b[39m(arrs, \u001b[38;5;28mlist\u001b[39m):\n\u001b[0;32m    281\u001b[0m     arrs \u001b[38;5;241m=\u001b[39m [arrs]\n\u001b[1;32m--> 282\u001b[0m \u001b[38;5;28;01mreturn\u001b[39;00m _nx\u001b[38;5;241m.\u001b[39mconcatenate(arrs, \u001b[38;5;241m0\u001b[39m)\n",
      "File \u001b[1;32m<__array_function__ internals>:180\u001b[0m, in \u001b[0;36mconcatenate\u001b[1;34m(*args, **kwargs)\u001b[0m\n",
      "\u001b[1;31mMemoryError\u001b[0m: Unable to allocate 10.7 GiB for an array with shape (119, 12072568) and data type object"
     ]
    }
   ],
   "source": [
    "import pandas as pd\n",
    "\n",
    "df = pd.read_csv(\"F:\\\\01.감염병데이터베이스\\\\data\\\\2024_infectious_DW\\\\dw_mmcuhort.csv\", lineterminator='\\n')\n",
    "# print(len(df))\n",
    "\n",
    "drug_list = [\"DAMOXAC\" ,\"DAMOXI50\" ,\"DAUGME625\" ,\"DAUGMEN\" ,\"DAVELOX\" ,\"DBANAN\" ,\"DCECLOR\" ,\"DCEFZIL\" ,\"DCRAVIT\" ,\"DCRAVIT500\" ,\n",
    "\"DCYCIN\" ,\"DFACTIVE\" ,\"DFLASIN\" ,\"DKLARI500\" ,\"DKLASIT\" ,\"DKSACIN\" ,\"DLEVOPLUS\" ,\"DMEIACT\" ,\"DMESEXIN\" ,\"DMINOCI\" ,\"DMONUR-PG\" ,\n",
    "\"DOMNICEF\" ,\"DOZEX\" ,\"DRULID\" ,\"DSEPTRI\" ,\"DSUPRAX\" ,\"DTIROXIN\" ,\"DZINNAT\" ,\"WAMIKIN\" ,\"WAMIKT5\" ,\"WAUGMEJ\" ,\"WAVELOX\" ,\n",
    "\"WAZACTA\" ,\"WCEFAME\" ,\"WCEFAZED\" ,\"WCEFIRA10\" ,\"WCEFORAT\" ,\"WCEFOTA05\" ,\"WCEFTEZ\" ,\"WCEFTRI20\" ,\"WCLAFO\" ,\n",
    "\"WCLEOI600\" ,\"WCOMBI3\" ,\"WCOMBI45\" ,\"WCRAVI50\" ,\"WCRAVI75\" ,\"WCYCIN2\" ,\"WCYCIN4\" ,\"WFLAGYL\" ,\"WFLUMA\" ,\n",
    "\"WFORTM\" ,\"WHABEKA\" ,\"WHANCEROM\" ,\"WMAXIP\" ,\"WMEFOXI\" ,\"WMEROP\" ,\"WMEROPEN1\" ,\"WMODIL\" ,\"WNETRO\" ,\"WROCEPH\" ,\n",
    "\"WTAZIM2\" ,\"WTAZO450\" ,\"WTAZOC2\" ,\"WTEICO400\" ,\"WTHIAM\" ,\"WTIBELA\" ,\"WTOBRA\" ,\"WVANCOC\" ,\"WVANCOL\" ,\"WYAMATE\" ,\n",
    "\"DVIDOXY\" ,\"DDOXYCYCL\" ,\"DVIBRAT\" ,\"DVIBRAT\" ,\"DVIBRAT\" ,\"WVIBRAI\" ,\"WAZITOPS\" ,\"DZITHROT\" ,\"WZITHRO\" ,\"DZITHRO6-S\" ,\n",
    "\"WZITHRO\" ,\"DZITHRO6-S\" ,\"DZITHRO6-S\" ,\"DZITHROT\" ,\"DZITHROT\" ,\"DZITHROT\" ,\"DZITHRO6-S\" ,\"DZITHRO9-S\" ,\"DZITHROT\" ,\"DZITHRO\" ]\n",
    "\n",
    "patient_df = pd.DataFrame([('00123911', '20101124'),('00163921', ''),('00215976', '20101102'),('00238084', '20131103'),('00241208', '20001013'),('00247583', '20131021'),('00271014', ''),('00275344', '20041023'),('00275529', ''),('00298786', ''),('00319102', '20071201'),('00365539', '20121105'),('00371020', '20101022'),('00381785', '20071101'),('00393022', '20131018'),('00404085', '20071028'),('00404624', '20061021'),('00423078', ''),('00437844', ''),('00444358', '20111029'),('00446819', '19991106'),('00450660', ''),('00452843', ''),('00453378', ''),('00459432', '19991127'),('00463171', '20101106'),('00465541', '20011017'),('00468504', ''),('00468685', ''),('00475119', ''),('00478248', ''),('00482179', ''),('00483887', '20001024'),('00508301', '20021016'),('00509101', ''),('00510157', '20091108'),('00510364', '20011011'),('00510369', '20131113'),('00510747', ''),('00511605', ''),('00512182', '20231101'),('00513600', ''),('00513894', '20051029'),('00515420', '20061027'),('00516249', '20121025'),('00517641', '20071031'),('00519502', '20051107'),('00523212', '20091017'),('00524849', '20121025'),('00525456', '20031127'),('00525695', '20041030'),('00527401', '20131121'),('00528196', '20041029'),('00528588', '20101031'),('00528648', '20231110'),('00528959', '20070813'),('00530449', ''),('00531589', '19990930'),('00532235', '20071206'),('00536847', ''),('00537600', ''),('00537877', '20111117'),('00541396', ''),('00542009', '20061107'),('00544682', ''),('00544897', ''),('00545722', ''),('00546284', ''),('00550061', '19991025'),('00551803', '20111021'),('00552654', '20120927'),('00554638', '20121102'),('00556429', '20051023'),('00558056', '20091017'),('00558871', '20071026'),('00559159', ''),('00561255', ''),('00563344', '20121113'),('00564626', ''),('00566247', ''),('00570567', ''),('00570675', ''),('00572071', '20111026'),('00572900', ''),('00575369', '20091108'),('00575514', '20231104'),('00576102', ''),('00577706', ''),('00577737', '20091015'),('00581287', ''),('00582532', ''),('00583529', ''),('00584765', ''),('00585863', '20120918'),('00586354', '20121102'),('00586550', ''),('00587525', ''),('00589773', '19981022'),('00591117', '20231116'),('00591339', '20101019'),('00591783', '20031011'),('00592898', '20121109'),('00592971', ''),('00596288', '20021001'),('00600386', ''),('00600508', ''),('00605461', '20041029'),('00606761', ''),('00607995', '20231110'),('00608000', '20121108'),('00608532', '20051029'),('00608561', '20110926'),('00610341', '20231115'),('00610360', '20041015'),('00610721', '20101107'),('00612615', ''),('00613406', '20081021'),('00618566', ''),('00622004', ''),('00624963', '20031012'),('00625085', '20021030'),('00625330', '20011026'),('00627755', ''),('00628923', '20041114'),('00631782', '20101125'),('00632456', '20091031'),('00635596', ''),('00636663', '20061022'),('00639830', ''),('00641040', '20051014'),('00643301', ''),('00644057', '20041029'),('00645207', '20131026'),('00645308', ''),('00650018', ''),('00651162', ''),('00652678', '20231113'),('00653314', ''),('00654599', ''),('00655376', '19991106'),('00655381', '20011110'),('00656934', '20101115'),('00658099', ''),('00658721', '20131029'),('00660218', '20111119'),('00660519', '20011113'),('00662765', ''),('00662904', ''),('00663026', '20041028'),('00664168', '20131022'),('00665858', '20111126'),('00666095', '20041018'),('00666824', '20081030'),('00667351', '20021129'),('00667950', '20001112'),('00668576', '20051023'),('00669263', ''),('00670052', '20021018'),\n",
    "('00671514', ''),('00672981', '20001025'),('00673974', '20041029'),('00676688', '20111009'),('00678372', ''),('00679211', '20121016'),('00680441', '20070502'),('00683773', '20011105'),('00685070', '20091022'),('00686097', '20041023'),('00686611', '20071014'),('00687037', '20231116'),('00688211', '20041024'),('00688403', '20081025'),('00689996', ''),('00690879', ''),('00692031', ''),('00693240', '20051104'),('00694690', '20091102'),('00695344', ''),('00696215', '20081027'),('00696629', '20091026'),('00696819', ''),('00698346', ''),('00699741', '20131113'),('00699952', ''),('00701213', ''),('00701647', '20091029'),('00702401', '20001028'),('00702426', '20030912'),('00702543', ''),('00702614', '20091015'),('00703385', ''),('00704303', '20121101'),('00705626', '20131107'),('00705749', ''),('00705905', '20001116'),('00707228', '20051109'),('00709708', '20061016'),('00711061', '20051101'),('00715770', '20011103'),('00715827', ''),('00716044', '20121106'),('00717888', '20131106'),('00718122', '20011114'),('00718401', '20061115'),('00723303', '20100518'),('00723537', '20071103'),('00723554', '20011026'),('00724006', ''),('00724462', '20101118'),('00725453', ''),('00725806', '20061026'),('00728322', '20120119'),('00730003', ''),('00730215', '20041104'),('00730589', '20111115'),('00730623', '19991021'),('00730735', '20051025'),('00731328', '20001109'),('00731847', '20051012'),('00735859', ''),('00736146', '20051112'),('00737604', '19991026'),('00738240', ''),('00738991', '19980430'),('00739098', '20041104'),('00739294', ''),('00739309', '20011109'),('00739621', ''),('00741040', '20071028'),('00741244', '20231110'),('00741624', '20021025'),('00743421', '20081119'),('00744259', ''),('00744357', '20061113'),('00744575', ''),('00745511', ''),('00747520', '20111104'),('00752156', '20001106'),('00753691', '20051028'),('00753765', '20011119'),('00754243', '20121114'),('00754710', '20231114'),('00755082', '20091024'),('00755217', '19991107'),('00757310', ''),('00759250', '20081027'),('00759435', ''),('00759454', '20041023'),('00761144', '20081125'),('00764923', '20111016'),('00769170', ''),('00769270', '20071111'),('00769650', '20231205'),('00770519', '19981002'),('00770637', '20111028'),('00772899', '19981005'),('00773448', ''),('00773481', '20011014'),('00773547', '20081017'),('00775971', ''),('00776257', '20101102'),('00776347', '20011030'),('00778064', '20121101'),\n",
    "('00778338', '20061120'),('00778454', '20081120'),('00778498', '20011116'),('00778617', ''),('00778836', '20131027'),('00780233', '20030513'),('00781319', ''),('00784910', '20111116'),('00785021', '19991108'),('00789408', '20071030'),('00789790', '20121113'),('00791314', '19991030'),('00792291', '20061021'),('00793723', '20101212'),('00795164', '20131029'),('00796241', '20091030'),('00796249', ''),('00801352', '19981104'),('00803305', '20091022'),('00804873', '20111021'),('00806329', ''),('00806599', '20041109'),('00807886', '20011029'),('00808041', '20121020'),('00808330', '20051019'),('00812365', ''),('00813054', ''),('00813268', ''),('00816980', '20111122'),('00818156', ''),('00818997', '20081020'),('00822000', '20231108'),('00823291', ''),('00823309', '20060728'),('00823609', '20051024'),('00824297', ''),('00825447', '20071027'),('00825789', '20011114'),('00826125', ''),('00827323', '20011108'),('00827959', '20061113'),('00829178', ''),('00830388', '20011018'),('00831455', ''),('00831512', '20011004'),('00832177', '20061207'),('00832701', '20071024'),('00833006', '20041106'),('00833211', '19981023'),('00833506', '20001105'),('00834762', '20121008'),('00838025', ''),('00838127', ''),('00843262', '20051105'),('00844060', '20061024'),('00845163', '20001023'),('00845246', '20061014'),('00846225', '20061016'),('00846847', '19991130'),('00846892', '20001105'),('00848097', '19981022'),('00848352', ''),('00848463', '20081020'),('00848955', '20001031'),('00853915', '20041031'),('00854894', ''),('00859114', ''),('00860315', '20061123'),('00860814', '20041115'),('00861366', '20021030'),('00861889', ''),('00863118', '20041008'),('00863512', ''),('00864177', '20101104'),('00865147', '20041104'),('00865314', '20101117'),('00866869', '20111124'),('00866981', '20011006'),('00868209', ''),('00870860', ''),('00871226', '20011118'),('00871402', '20061113'),('00872137', '20091106'),('00873149', ''),('00874989', ''),('00876569', '20091106'),('00877066', '20071025'),('00877111', '19981110'),('00877142', '20061029'),('00877671', ''),('00879371', ''),('00880513', '20091011'),('00880823', '20131029'),('00883360', '20121031'),('00883671', '20071128'),('00884025', '20100413'),('00885711', '20041023'),('00887738', ''),('00888779', ''),('00888883', '20051114'),('00888919', '20071112'),('00889569', '20061120'),('00890501', '20001026'),('00891152', '20071105'),\n",
    "('00892179', ''),('00892905', ''),('00893758', '19991031'),('00894845', ''),('00895532', ''),('00896318', '20091019'),('00896372', '20041027'),('00896934', '20061016'),('00901636', '20121114'),('00902604', '20051026'),('00903678', '20051110'),('00903829', '20091021'),('00904465', '20011107'),('00904925', '20121102'),('00905114', '20121122'),('00905254', '20101118'),('00907088', '19991209'),('00908009', ''),('00908085', '19981011'),('00910807', '20121020'),('00910858', '20011028'),('00912394', '19981122'),('00912402', '20081026'),('00912708', '20131101'),('00912720', ''),('00912746', ''),('00914400', '20071117'),('00914805', ''),('00916524', '20041112'),('00917745', ''),('00918066', '19981031'),('00918109', ''),('00919954', '20051024'),('00920553', ''),('00920610', ''),('00920710', '20041025'),('00920811', '20121109'),('00921602', '19991101'),('00922872', ''),('00924738', ''),('00925211', '20091110'),('00925978', '19991127'),('00926327', '20071130'),('00927597', ''),('00927850', '20061015'),('00927958', '20041114'),('00928724', ''),('00931560', '19981021'),('00931732', '20110910'),('00931739', ''),('00931985', ''),('00932120', '20051107'),('00932582', '20081030'),('00933122', ''),('00934098', '20061023'),('00935451', ''),('00935527', '20041013'),('00937171', '19991023'),('00939614', '20071007'),('00943052', ''),('00943380', '20101125'),('00945048', ''),('00946339', '20021110'),('00947086', '19980423'),('00950481', ''),('00950942', '20071117'),('00951374', '19991109'),('00951630', ''),('00952373', '20021015'),('00954517', '20031205'),('00954578', '20011104'),('00955900', '20131122'),('00955947', '20081118'),('00956360', '20001101'),('00957209', ''),('00957450', '20121028'),('00958186', '20081102'),('00959205', '20091004'),('00960479', '20041108'),('00960899', ''),('00961671', '20081105'),('00962015', '20081020'),('00962519', ''),('00962555', ''),('00962609', ''),('00962757', ''),('00963238', ''),('00963812', '20011018'),('00964478', '20001119'),('00965447', '20061006'),('00965536', ''),('00967704', '20031117'),('00968533', '20011029'),('00971244', '20011105'),('00972397', ''),('00972446', '20131102'),('00972888', '19981014'),('00973349', '19981019'),('00973392', ''),\n",
    "('00973707', '19981025'),('00973716', '20011118'),('00973788', '19981021'),('00973899', '20051017'),('00974046', '19981023'),('00974480', ''),('00974530', '19981027'),('00974625', '19981028'),('00974870', '19981029'),('00975322', ''),('00975647', '19981104'),('00975757', ''),('00976106', ''),('00976460', '19981111'),('00976863', ''),('00977266', ''),('00977335', ''),('00977506', ''),('00977767', '19981121'),('00977919', '20061103'),('00978451', '20041027'),('00978886', ''),('00979123', '20100202'),('00979474', ''),('00979478', '20001105'),('00980117', ''),('00981143', '20051108'),('00981152', ''),('00981682', '19981220'),('00981812', ''),('00983219', ''),('00983422', ''),('00983818', '20001029'),('00983878', ''),('00984405', '20091121'),('00987434', '20021027'),('00988828', '20041024'),('00990055', ''),('00990320', '20021021'),('00991184', '20121107'),('00991853', '20051013'),('00993361', '20061030'),('00994483', '20061120'),('00994529', '20011120'),('00995728', '20101109'),('00997735', '20051025'),('00997969', '20101114'),('01002099', ''),('01004785', '20091203'),('01007221', '20081106'),('01007464', '20011017'),('01007963', '20041015'),('01008866', '20011106'),('01013076', '20061018'),('01014201', '20061207'),('01014500', ''),('01015875', '20120906'),('01019173', '20101024'),('01020316', '20051120'),('01022415', '20011115'),('01023960', '19990927'),('01024785', '20031004'),('01025011', '20071031'),('01025409', '20071109'),('01026839', '20231102'),('01026845', '19991016'),('01026901', ''),('01026957', '20011122'),('01027243', '19991019'),('01027482', '19991021'),('01027539', ''),('01027710', '20001015'),('01027842', '19991024'),('01027855', '19991024'),('01027857', ''),('01028107', '20091105'),('01028207', ''),('01028241', '19991026'),('01028290', '19991027'),('01028334', '19991027'),('01028618', ''),('01028688', '19991029'),('01029051', '19991101'),('01029082', '20001104'),('01029469', ''),('01029481', ''),('01029525', '19991105'),('01029649', '19991106'),('01029905', '19991108'),('01029914', '19991108'),('01029998', ''),('01030097', '19991110'),('01030175', '20021206'),('01030345', '19991110'),('01030469', '20071126'),('01030512', ''),('01030743', '19991113'),\n",
    "('01030782', '20111020'),('01031400', '19991118'),('01031954', ''),('01032077', '19991123'),('01032336', '19991124'),('01032659', '19991127'),('01032967', ''),('01033905', '19991207'),('01033989', ''),('01035464', '19991218'),('01037010', '20011112'),('01037496', ''),('01037568', ''),('01037679', '20120409'),('01039304', ''),('01039520', '20031110'),('01041235', '20071106'),('01042055', '20091102'),('01043189', '20001114'),('01043201', '20081101'),('01043331', '20231119'),('01043992', '20001108'),('01045759', '20091122'),('01046690', '20021029'),('01047473', '20111121'),('01047506', ''),('01047972', '20041103'),('01048188', ''),('01054356', ''),('01054673', '20121024'),('01055019', '20101025'),('01057038', '20011112'),('01057114', '20011116'),('01057582', '20061103'),('01058018', '20071111'),('01060018', '20121031'),('01063602', ''),('01063824', '20061026'),('01065402', ''),('01066192', ''),('01066872', '20041125'),('01068744', '20111103'),('01071648', '20000927'),('01071969', ''),('01072272', ''),('01072579', '20001011'),('01073041', '20001017'),('01073219', '20001022'),('01073320', ''),('01073327', ''),('01073353', '20001020'),('01073395', ''),('01073646', '20001024'),('01073693', '20001024'),('01073707', '20001024'),('01073710', '20001024'),('01073850', '20051027'),('01073938', '20001030'),('01074045', '20001028'),('01074073', '20001028'),('01074076', ''),('01074522', '20041104'),('01074532', '20001102'),('01074539', ''),('01074555', '20001102'),('01074579', ''),('01074656', ''),('01074698', '20001103'),('01074703', '20001103'),('01074768', '20001104'),('01074909', '20001106'),('01074918', '20001106'),('01074920', '20001106'),('01075000', '20001107'),('01075040', '20001107'),('01075273', '20001110'),('01075341', '20001111'),('01075365', ''),('01075507', '20001113'),('01075579', '20001114'),('01075735', '20001116'),('01075841', '20001117'),('01076842', '20001127'),('01079160', '20081125'),('01079832', ''),('01079987', '20041119'),('01080082', ''),('01080119', ''),('01084458', '20031021'),('01084473', '20021104'),('01084893', '20061016'),('01085812', '20111031'),('01086207', '20011108'),('01087370', ''),('01089688', '20041014'),('01090278', ''),('01090607', '20061029'),('01092918', '20051028'),('01093484', ''),('01095274', ''),('01098042', ''),('01098392', '20011016'),('01098936', '20101022'),\n",
    "('01099343', '20041109'),('01100023', ''),('01100351', '20131124'),('01100387', '20071027'),('01101172', '20061130'),('01102838', '20131115'),('01102927', '20061012'),('01103533', '20121016'),('01104201', '20121023'),('01106670', '20051023'),('01106725', '20131105'),('01107363', '20011108'),('01107487', '20021008'),('01108288', '20121105'),('01108341', '20071127'),('01110717', '20121024'),('01111455', '20051018'),('01112769', ''),('01113136', ''),('01114567', ''),('01114758', '20111112'),('01115131', '20081103'),('01117810', ''),('01117815', '20071103'),('01117877', '20071030'),('01117892', ''),('01118077', ''),('01118242', '20051120'),('01118987', '20131022'),('01119820', ''),('01119989', '20041031'),('01120165', '20010930'),('01120633', ''),('01121024', ''),('01121741', '20011011'),('01121981', ''),('01122151', '20011015'),('01122201', ''),('01122212', '20011015'),('01122258', '20011015'),('01122381', '20011016'),('01122460', ''),('01122595', '20011017'),('01122659', ''),('01122682', '20011018'),('01122702', '20091017'),('01122775', '20011019'),('01122832', '20011019'),('01122928', ''),('01122947', ''),('01122985', '20011020'),('01123023', '20011021'),('01123173', ''),('01123178', '20011022'),('01123256', '20011022'),('01123353', '20011023'),('01123446', '20121022'),('01123812', '20011026'),('01123845', '20011027'),('01123955', ''),('01123963', '20011028'),('01123979', ''),('01123985', ''),('01124015', '20011028'),('01124081', '20011029'),('01124274', ''),('01124394', '20031025'),('01124403', '20011031'),('01124480', '20011031'),('01124510', '20011031'),('01124688', '20011101'),('01124850', ''),('01124854', '20011103'),('01124921', '20011104'),('01124952', '20011104'),('01124965', ''),('01125128', '20011105'),('01125139', '20011105'),('01125203', '20011106'),('01125241', '20011106'),('01125282', '20011106'),('01125422', '20011107'),('01125640', '20050922'),('01125663', ''),('01125901', '20011111'),('01125914', '20011111'),('01125956', ''),('01125991', '20011112'),('01126040', ''),('01126215', '20071116'),('01126363', ''),('01126399', '20011116'),('01126464', ''),('01126471', '20011115'),('01126549', '20011115'),('01126859', '20011118'),('01127058', '20011119'),('01127285', ''),('01127713', '20011124'),('01127743', '20011124'),('01127746', '20011125'),\n",
    "('01127760', '20011125'),('01128123', '20011127'),('01128166', ''),('01128235', '20020819'),('01128537', '20011201'),('01129253', '20231127'),('01129624', '20011210'),('01130357', '20121014'),('01130694', '20011218'),('01132171', '20131020'),('01133726', '20051103'),('01134324', ''),('01135194', '20091029'),('01135355', '20121116'),('01136080', ''),('01136226', '20111111'),('01136879', '20041020'),('01137407', '20121108'),('01138064', '20061025'),('01138263', ''),('01139141', '20051105'),('01140340', '20121107'),('01142469', '20061021'),('01143403', ''),('01146116', ''),('01146117', '20131110'),('01146481', '20041107'),('01147328', ''),('01147834', ''),('01148836', '20041026'),('01148918', '20061026'),('01150680', ''),('01153448', '20050802'),('01153995', '20081104'),('01154487', ''),('01154669', '20061031'),('01157363', '20081027'),('01157558', '20101108'),('01158250', '20041023'),('01158894', '20061118'),('01159060', '20101118'),('01160368', '20071018'),('01161082', '20121111'),('01165307', '20061106'),('01167577', ''),('01168595', ''),('01169017', '20020918'),('01169474', '20061103'),('01171215', '20021006'),('01171292', '20021007'),('01171372', ''),('01171562', '20021008'),('01171570', ''),('01171817', ''),('01172076', ''),('01172152', '20021013'),('01172161', '20021013'),('01172641', '20021016'),('01172740', '20021017'),('01172769', '20091109'),('01172805', '20021018'),('01172964', '20021019'),('01173151', ''),('01173207', ''),('01173648', ''),('01173943', ''),('01174047', '20021029'),('01174074', '20021029'),('01174445', ''),('01174470', '20021101'),('01174663', ''),('01175373', '20021108'),('01175473', ''),('01176332', '20021116'),('01176419', ''),('01177724', '20071104'),('01177884', '20021204'),('01178224', '20100316'),('01178349', ''),('01179301', ''),('01180145', ''),('01180322', ''),('01181052', '20111101'),('01187142', ''),('01187369', '20071113'),('01187662', '20031031'),('01187743', '20091127'),('01188188', '20071127'),('01188328', '20101026'),('01189771', '20051026'),('01190804', ''),('01191287', '20071113'),('01192530', ''),('01192851', '20041208'),('01193542', '20071110'),('01193631', ''),('01195928', '20061102'),('01196938', '20101024'),('01197937', '20081021'),('01198576', '20051119'),('01198887', '20051107'),\n",
    "('01199827', '20041025'),('01199874', '20061105'),('01200295', '20121125'),('01200407', '20111104'),('01200590', ''),('01201425', '20081024'),('01202977', '20081029'),('01203797', ''),('01204155', '20231122'),('01204506', ''),('01204623', '20111020'),('01205685', '20061019'),('01206071', ''),('01206781', '20071113'),('01207324', '20041013'),('01207640', '20061016'),('01207661', ''),('01208412', '20101022'),('01209534', ''),('01209951', ''),('01210432', ''),('01210575', '20051103'),('01211464', ''),('01211685', '20030817'),('01212185', '20111110'),('01214193', ''),('01215037', ''),('01216405', '20111027'),('01216540', '20121106'),('01218130', ''),('01218911', '20031014'),('01219078', '20031015'),('01219301', '20031017'),('01220073', '20031024'),('01220166', '20031026'),('01220169', ''),('01220335', ''),('01220494', '20041124'),('01220532', ''),('01220581', '20111117'),('01220636', '20031110'),('01220744', '20101217'),('01220894', '20031101'),('01221302', ''),('01221315', ''),('01221836', ''),('01222049', ''),('01222088', ''),('01222566', ''),('01222581', '20031117'),('01223209', '20031123'),('01223326', '20121017'),('01223885', ''),('01225197', ''),('01225910', '20091004'),('01225959', ''),('01225966', ''),('01226404', ''),('01226576', '20131202'),('01226917', ''),('01226982', '20061101'),('01226986', '20101101'),('01227042', ''),('01227378', ''),('01227643', ''),('01227923', '20051121'),('01233964', '20131026'),('01235329', '20081016'),('01236328', '20041123'),('01236915', '20120118'),('01237616', '20071113'),('01237731', '20081020'),('01237898', '20040422'),('01239029', ''),('01240988', ''),('01241131', '20101214'),('01242059', ''),('01242083', '20051108'),('01242338', ''),('01242374', '20111104'),('01244443', '20081017'),('01245284', ''),('01246106', '20051031'),('01246704', '20111104'),('01247592', ''),('01248644', '20091019'),('01251516', '20071018'),('01251731', '20231102'),('01252364', '20061102'),('01256578', '20061126'),('01256713', '20061026'),('01257331', ''),('01257339', ''),('01257465', '20040918'),('01259604', '20111012'),('01260035', '20041011'),('01260099', '20041025'),('01260262', ''),('01260874', '20041019'),('01260889', ''),('01261288', '20041022'),('01261293', '20041022'),('01261346', '20041023'),('01261359', '20041023'),('01261471', '20041025'),('01261556', ''),('01261676', '20041026'),('01261804', '20041027'),('01261818', '20041027'),('01261867', '20041027'),('01261930', '20041028'),('01262020', '20041028'),('01262021', '20041028'),('01262088', '20041029'),('01262135', '20041029'),('01262137', ''),('01262170', '20041030'),('01262179', '20041030'),('01262190', '20041030'),('01262203', '20041030'),('01262219', '20041031'),('01262254', '20041101'),('01262372', '20041101'),('01262419', ''),('01262440', '20041102'),('01262448', '20041102'),('01262457', '20041102'),('01262469', ''),('01262570', ''),('01262723', '20041104'),('01262837', ''),('01262841', '20041106'),('01262849', '20041106'),('01262899', '20041107'),('01262923', '20041107'),('01262981', '20041108'),('01262987', '20041108'),('01263477', '20041111'),('01263624', '20041113'),('01263840', '20041115'),('01264168', ''),('01264242', '20041119'),('01264636', '20041123'),('01266614', ''),('01266808', ''),('01267026', ''),('01269352', '20051028'),('01270899', '20120201'),('01272162', '20060901'),('01273118', '20071105'),('01273294', '20101110'),('01273902', '20121119'),('01274710', '20051009'),('01279880', ''),('01283104', '20081020'),('01284621', ''),('01286218', '20061105'),('01286295', '20061121'),('01287226', '20061103'),('01288829', '20080925'),('01288970', '20071025'),('01290407', '20051019'),('01291703', '20071113'),('01293315', ''),('01296573', ''),('01299674', '20091210'),('01300338', '20051029'),('01300390', ''),('01301337', '20051010'),('01301530', ''),('01301848', '20051014'),('01301864', '20101030'),('01301894', '20051015'),('01301895', '20051015'),('01301929', '20051016'),('01302335', '20051019'),('01302420', '20051020'),('01302569', '20051021'),('01302605', '20051022'),('01302992', ''),('01303034', '20051026'),('01303046', '20051026'),('01303068', '20051026'),('01303069', '20051026'),('01303142', '20051027'),('01303230', ''),('01303237', '20051028'),('01303249', ''),\n",
    "('01303283', ''),('01303340', '20051028'),('01303370', '20051029'),('01303373', '20051029'),('01303416', '20051030'),('01303425', '20051030'),('01303558', '20051031'),('01303642', '20051031'),('01303719', '20051101'),('01303721', '20051101'),('01303798', '20051101'),('01303811', '20051101'),('01303829', '20051106'),('01303851', '20051102'),('01303930', '20051102'),('01304009', ''),('01304167', '20051104'),('01304454', ''),('01304486', '20051108'),('01304675', '20051109'),('01305005', '20051113'),('01305087', ''),('01305091', ''),('01305598', '20051118'),('01305719', '20051118'),('01305797', '20051120'),('01305817', '20051121'),('01305834', '20051121'),('01305998', ''),('01306035', '20051122'),('01306124', ''),('01306313', '20051124'),('01306372', '20051125'),('01306853', ''),('01308063', '20121029'),('01310072', ''),('01310460', '20091022'),('01312259', '20091217'),('01312467', '20071022'),('01312742', '20111021'),('01313093', '20081030'),('01315432', '20091114'),('01315948', ''),('01319897', '20131031'),('01320188', ''),('01322530', '20121005'),('01323927', ''),('01324361', '20111023'),('01325285', ''),('01326701', '20091029'),('01328412', ''),('01328541', '20071110'),('01330566', '20121022'),('01330763', '20071015'),('01331581', ''),('01336106', '20061029'),('01340383', '20071103'),('01340907', '20060921'),('01343653', ''),('01343992', '20061013'),('01344059', ''),('01344194', '20061016'),('01344201', ''),('01344326', '20131110'),('01344426', '20061017'),('01344837', '20061021'),('01344861', '20061022'),('01344901', '20061022'),('01345031', '20061023'),('01345072', '20061023'),('01345182', '20061027'),('01345295', ''),('01345513', '20061027'),('01345514', '20061027'),('01345581', '20061027'),('01345611', '20061028'),('01345654', '20061029'),('01345687', ''),('01345859', '20061031'),('01346021', '20061101'),('01346359', '20061104'),('01346363', '20061104'),('01346544', '20061106'),('01346584', ''),('01346589', ''),('01347220', ''),('01347344', '20061113'),('01347666', ''),('01348025', '20061117'),('01348068', '20061118'),('01348291', '20061120'),('01348723', '20061124'),('01348794', '20061125'),('01349155', '20061128'),('01350625', '20231120'),('01350735', '20121021'),('01351807', ''),('01355321', ''),('01355431', '20081203'),('01355511', '20081108'),('01356366', ''),('01358919', '20081218'),('01359239', '20081017'),('01360612', '20071117'),\n",
    "('01362194', '20071104'),('01362199', '20081103'),('01363811', '20081102'),('01365226', '20121108'),('01370142', '20111126'),('01372123', ''),('01373597', '20081120'),('01379496', '20091109'),('01379648', ''),('01381394', '20121030'),('01383275', ''),('01384657', '20231121'),('01387531', '20101101'),('01388190', ''),('01388370', '20070929'),('01388388', '20111126'),('01388423', ''),('01389119', '20071121'),('01389778', '20131203'),('01390264', '20071015'),('01390533', '20071016'),('01390641', '20071017'),('01391106', '20071022'),('01391195', '20071022'),('01391274', '20071023'),('01391753', '20071026'),('01391818', '20081019'),('01391965', '20071029'),('01391990', '20071029'),('01392040', ''),('01392534', ''),('01392543', '20071102'),('01392568', ''),('01392601', ''),('01392700', '20071105'),('01392717', ''),('01393009', ''),('01393032', '20071107'),('01393239', '20071108'),('01393325', '20071109'),('01393391', '20071110'),('01393596', '20071112'),('01393721', '20071113'),('01393822', '20071113'),('01393829', '20071113'),('01393885', ''),('01394066', ''),('01394117', '20071115'),('01394121', '20071116'),('01394368', '20071118'),('01394815', '20131020'),('01395214', '20071126'),('01395724', '20071129'),('01395969', '20071202'),('01396080', '20071203'),('01396658', '20071208'),('01396670', '20081029'),('01397131', '20071212'),('01398394', '20101111'),('01398709', ''),('01400219', '20081117'),('01400451', '20231122'),('01401211', '20111021'),('01401561', '20231114'),('01405071', '20120130'),('01408287', '20091104'),('01409012', '20131118'),('01410264', '20131030'),('01412847', '20101109'),('01420533', '20121111'),('01421653', '20091010'),('01421958', '20101107'),('01423137', '20121121'),('01423429', ''),('01423474', '20091101'),('01429342', ''),('01430468', '20080909'),('01431113', ''),('01431123', '20111028'),('01434095', ''),('01434639', ''),('01435333', ''),('01435657', '20081021'),('01435801', ''),('01435856', '20081022'),('01435959', ''),('01436050', '20081023'),('01436055', '20081023'),('01436125', ''),('01436237', '20081024'),('01436300', '20081025'),('01436321', ''),('01436601', '20081028'),('01436637', '20081028'),('01436678', '20081030'),('01436710', '20131105'),('01436811', '20081029'),('01436835', '20081029'),('01436953', '20081030'),('01437146', ''),('01437603', '20081105'),('01437882', '20081107'),('01437902', '20081108'),('01437944', '20081109'),('01437980', ''),('01438759', ''),('01438788', '20081116'),\n",
    "('01438899', ''),('01439461', '20081121'),('01439717', '20081124'),('01439725', '20081124'),('01440152', ''),('01442910', '20121015'),('01443542', '20091019'),('01443825', '20081228'),('01445572', '20101105'),('01447568', '20101025'),('01447667', '20111107'),('01449401', '20121029'),('01449770', '20101104'),('01451833', '20111004'),('01452345', ''),('01454133', '20121115'),('01459440', ''),('01460187', '20121028'),('01462013', '20091011'),('01465149', ''),('01467121', ''),('01469534', '20131103'),('01470707', '20101107'),('01472886', ''),('01473402', '20121024'),('01473563', '20111105'),('01473806', ''),('01477665', ''),('01478934', ''),('01479571', ''),('01479631', '20091007'),('01479656', '20091007'),('01479849', '20091009'),('01479925', '20091009'),('01480223', '20091012'),('01480324', '20091013'),('01480416', '20091013'),('01481162', '20091019'),('01481167', '20091019'),('01481427', '20091021'),('01481475', ''),('01481816', '20091023'),('01481869', '20091024'),('01481895', '20091024'),('01482163', ''),('01482208', ''),('01482364', ''),('01482678', '20091027'),('01483027', '20091029'),('01483102', '20091029'),('01483195', '20091029'),('01483522', '20091030'),('01483552', '20091030'),('01483995', ''),('01484053', ''),('01484103', '20091102'),('01484320', '20091103'),('01484425', '20091103'),('01484440', '20091103'),('01484599', '20091104'),('01485207', '20091106'),('01485340', '20091107'),('01486400', '20091111'),('01487106', '20091113'),('01487211', '20091117'),('01488559', '20091120'),('01488759', ''),('01489169', '20091123'),('01489827', '20091126'),('01490789', '20091130'),('01492996', '20101024'),('01498097', '20231118'),('01498872', '20111016'),('01501158', '20111123'),('01502120', ''),('01502940', '20131104'),('01503072', '20101103'),('01503163', '20121025'),('01508023', '20100410'),('01508729', ''),('01512484', '20121029'),('01512789', '20111018'),('01512872', '20100519'),('01512894', ''),('01516075', ''),('01521166', '20111101'),('01524713', '20101028'),('01524809', '20101010'),('01526632', ''),('01526960', '20101029'),('01527267', '20101129'),('01529186', '20101024'),('01529197', '20100924'),('01529448', ''),('01530945', '20231121'),('01531866', '20101015'),('01532063', ''),('01532177', '20101018'),('01532296', ''),('01532784', '20101024'),('01533308', '20121108'),\n",
    "('01533314', '20101028'),('01533400', '20101029'),('01533449', ''),('01533754', '20101102'),('01533874', ''),('01533983', '20101104'),('01533993', '20101104'),('01534127', '20101105'),('01534158', ''),('01534251', '20101107'),('01534912', '20101112'),('01534984', '20101113'),('01535736', '20101119'),('01535844', '20101121'),('01536196', '20101123'),('01536223', ''),('01536466', '20101126'),('01536550', '20101126'),('01536748', '20101129'),('01542131', '20111027'),('01544183', ''),('01548417', ''),('01549454', ''),('01550408', '20121102'),('01560928', '20231120'),('01568761', ''),('01568792', '20131104'),('01573005', '20110930'),('01574344', ''),('01575651', '20111023'),('01575671', '20111023'),('01575782', '20111024'),('01575894', ''),('01576019', '20111026'),('01576029', ''),('01576072', '20111027'),('01576084', '20111026'),('01576221', '20111027'),('01576334', '20111028'),('01576381', '20111029'),('01576451', ''),('01576653', ''),('01576769', ''),('01576785', '20111101'),('01576899', '20111102'),('01577022', '20111103'),('01577390', ''),('01577748', ''),('01577937', '20111111'),('01578117', ''),('01578132', ''),('01578142', ''),('01578175', '20111114'),('01578311', '20111114'),('01578391', '20111201'),('01578681', ''),('01578839', '20111118'),('01578915', '20111120'),('01579028', '20111121'),('01579701', '20111126'),('01579793', '20121031'),('01579908', ''),('01582090', '20131028'),('01583916', '20120116'),('01587693', '20120205'),('01588572', '20120412'),('01592839', '20121102'),('01595546', ''),('01596259', ''),('01597280', '20131025'),('01606779', '20120719'),('01607679', ''),('01609579', ''),('01613535', '20120915'),('01614196', '20131030'),('01614265', '20121024'),('01614306', '20120922'),('01614513', '20120924'),('01615083', '20120930'),('01615406', '20121114'),('01615646', '20121004'),('01616209', '20121009'),('01616275', ''),('01616489', '20121012'),('01616607', '20121013'),('01616613', '20121013'),('01616862', '20121015'),('01617050', ''),('01617297', '20121019'),('01617370', '20121021'),('01617687', ''),('01617739', ''),('01617779', ''),('01617980', '20121026'),('01617985', ''),('01618118', '20121028'),('01618394', ''),('01618479', ''),('01618572', '20121031'),('01618685', ''),('01618995', '20231130'),('01619087', '20121105'),('01619125', '20121105'),('01619234', ''),('01619260', ''),('01619359', '20121113'),('01619510', '20121108'),('01619535', '20121108'),('01619724', '20121111'),('01619921', ''),('01620063', ''),('01620197', '20121119'),('01620316', '20121116'),('01621592', ''),('01625956', '20131110'),('01645622', ''),('01654639', ''),('01654968', '20131027'),('01656097', '20131015'),('01656787', ''),('01657118', ''),('01657169', ''),('01657170', '20131024'),('01657409', '20131027'),('01657429', '20131028'),('01657828', ''),('01657957', '20131031'),('01658177', ''),('01658180', ''),('01658293', '20131104'),('01658411', ''),('01658520', '20131105'),('01658539', ''),('01658642', '20131106'),('01658839', '20131108'),('01658864', ''),('01659274', '20131112'),('01659380', ''),('01659421', '20131114'),('01659614', ''),('01659690', '20131117'),('01659851', '20131118'),('01659919', '20131119'),('01660003', '20131119'),('01660013', '20131119'),('01663771', ''),('01664622', '20231114'),('01727743', '20231123'),('01806421', '20231110'),('01841190', '20231109'),\n",
    "('01894899', '20231103'),('01923208', ''),('01994627', '20231126'),('02009518', ''),('02014936', '20231101'),('02016193', '20231114'),('02028679', ''),('02029854', '20231119'),('02040160', ''),('02040207', ''),('02040266', '20231103'),('02040395', '20231105'),('02040406', '20231105'),('02040444', ''),('02040684', '20231107'),('02040896', '20231109'),('02040947', '20231110'),('02041058', '20231113'),('02041060', '20231112'),('02041114', '20231113'),('02041149', '20231113'),('02041235', ''),('02041244', '20231113'),('02041298', '20231114'),('02041357', '20231115'),('02041396', ''),('02041397', '20231116'),('02041969', '20231121'),('02041976', '20231121'),('02042086', '20231123'),('02042180', '20231123'),('02042401', ''),('03000001', ''),('03000178', '20231117'),('03001258', '20091101'),('03001974', '20061002'),('03003217', '20131119'),('03004219', ''),('03004779', '20031101'),('03005182', '20131105'),('03006192', '20011125'),('03006895', ''),('03009866', ''),('03011252', '20090616'),('03011937', '20051015'),('03016948', '20081127'),('03017749', '19991026'),('03018814', '20021112'),('03021049', ''),('03021530', ''),('03021920', '20090212'),('03024175', ''),('03024426', '20011110'),('03026465', ''),('03028184', ''),('03029210', '20071110'),('03030255', '20051101'),('03032181', '20111225'),('03033373', '20070909'),('03033685', '20121113'),('03034816', '20081019'),('03037088', '20111129'),('03037122', ''),('03037316', ''),('03038628', ''),('03039696', '20081028'),('03042743', ''),('03042760', ''),('03044855', '20081108'),('03048017', ''),('03055185', '20111114'),('03056030', ''),('03060761', '20121031')]\n",
    ", columns = [\"patient_no\", \"admdate\"]\n",
    ")\n",
    "\n",
    "df = pd.merge(df, patient_df, left_on=\"PATNO\", right_on=\"patient_no\", how=\"inner\")\n",
    "df = df[df[\"ORDCODE\"].isin(drug_list)]\n",
    "df.to_csv(\"dw_mmcuhort_쯔쯔가무시환자_약품처방내역.csv\", index = False)\n",
    "# print(df.columns)\n",
    "# df= df[(df[\"PATNO\"]==\"00912746\") & (df[\"ORDDATE\"]==\"20160129\") & (df[\"ORDSEQNO\"]==16)]\n",
    "# print(df.values.tolist())"
   ]
  },
  {
   "cell_type": "code",
   "execution_count": 1,
   "metadata": {},
   "outputs": [
    {
     "name": "stdout",
     "output_type": "stream",
     "text": [
      "         Date Category       Value\n",
      "0  2021-01-01        A  [1.0, 2.0]\n",
      "1  2021-01-02        B  [3.0, nan]\n"
     ]
    }
   ],
   "source": [
    "import pandas as pd\n",
    "\n",
    "# 예제 데이터\n",
    "data = {'Date': ['2021-01-01', '2021-01-01', '2021-01-02', '2021-01-02'],\n",
    "        'Category': ['A', 'A', 'B', 'B'],\n",
    "        'Value': [1, 2, 3, None]}\n",
    "df = pd.DataFrame(data)\n",
    "\n",
    "# 각 Date와 Category 조합에 대해 Value 값을 리스트로 집계\n",
    "agg_df = df.groupby(['Date', 'Category'])['Value'].agg(list).reset_index()\n",
    "\n",
    "print(agg_df)"
   ]
  },
  {
   "cell_type": "code",
   "execution_count": 1,
   "metadata": {},
   "outputs": [
    {
     "name": "stderr",
     "output_type": "stream",
     "text": [
      "C:\\Users\\sangil\\AppData\\Local\\Temp\\ipykernel_44012\\3927658349.py:3: DtypeWarning: Columns (16,35,39,40,56,58,68,70,73,76,79,80,102,103,104,106,107,114,116,119,125,126) have mixed types. Specify dtype option on import or set low_memory=False.\n",
      "  df = pd.read_csv(\"F:/01.감염병데이터베이스/data/2024_infectious_DW/ods_apopdlst.csv\")\n"
     ]
    },
    {
     "name": "stdout",
     "output_type": "stream",
     "text": [
      "423320\n"
     ]
    },
    {
     "name": "stderr",
     "output_type": "stream",
     "text": [
      "C:\\Users\\sangil\\AppData\\Local\\Temp\\ipykernel_44012\\3927658349.py:6: DtypeWarning: Columns (8,10,43,87,88,97,102,105,117,133,135) have mixed types. Specify dtype option on import or set low_memory=False.\n",
      "  df = pd.read_csv(\"F:/01.감염병데이터베이스/data/2024_infectious_DW/ods_apipdlst.csv\")\n"
     ]
    },
    {
     "name": "stdout",
     "output_type": "stream",
     "text": [
      "33136\n"
     ]
    }
   ],
   "source": [
    "import pandas as pd\n",
    "\n",
    "df = pd.read_csv(\"F:/01.감염병데이터베이스/data/2024_infectious_DW/ods_apopdlst.csv\")\n",
    "print(len(df))\n",
    "\n",
    "df = pd.read_csv(\"F:/01.감염병데이터베이스/data/2024_infectious_DW/ods_apipdlst.csv\")\n",
    "print(len(df))"
   ]
  },
  {
   "cell_type": "code",
   "execution_count": 10,
   "metadata": {},
   "outputs": [
    {
     "name": "stdout",
     "output_type": "stream",
     "text": [
      "Empty DataFrame\n",
      "Columns: [한글상품명, 업체명, 약품규격, 제품총수량, 제형구분, 포장형태, 품목기준코드, 품목허가일자, 전문/일반, 대표코드, 표준코드, 제품코드(개정후), 일반명코드(성분명코드), 비고, 취소일자, 양도양수적용(공고)일자, 양도양수종료일자, 일련번호생략여부, 일련번호생략사유, ATC코드, 특수관리약품구분, 의약품판독장비구분, ATC 코드, ATC 코드명]\n",
      "Index: []\n",
      "\n",
      "[0 rows x 24 columns]\n",
      "[]\n"
     ]
    }
   ],
   "source": [
    "import pandas as pd\n",
    "\n",
    "df = pd.read_csv(\"F:/01.감염병데이터베이스/data/2024_infectious_CDM/edi_atc.csv\")\n",
    "df.columns\n",
    "df = df[(df[\"ATC코드\"].notnull()) & (df[\"ATC 코드명\"].isnull())]\n",
    "\n",
    "print(df.head())\n",
    "print(df[\"ATC코드\"].unique())\n"
   ]
  },
  {
   "cell_type": "code",
   "execution_count": null,
   "metadata": {},
   "outputs": [],
   "source": [
    "df = pd.read_csv(\"F:/01.감염병데이터베이스/data/2024_infectious_CDM/edi_atc.csv\")\n",
    "df.columns\n",
    "# df = df[(df[\"품목허가일자\"].notnull() & (df[\"취소일자\"].notnull()))]\n",
    "df[df[\"품목허가일자\"].isna()]"
   ]
  },
  {
   "cell_type": "code",
   "execution_count": 6,
   "metadata": {},
   "outputs": [
    {
     "data": {
      "text/html": [
       "<div>\n",
       "<style scoped>\n",
       "    .dataframe tbody tr th:only-of-type {\n",
       "        vertical-align: middle;\n",
       "    }\n",
       "\n",
       "    .dataframe tbody tr th {\n",
       "        vertical-align: top;\n",
       "    }\n",
       "\n",
       "    .dataframe thead th {\n",
       "        text-align: right;\n",
       "    }\n",
       "</style>\n",
       "<table border=\"1\" class=\"dataframe\">\n",
       "  <thead>\n",
       "    <tr style=\"text-align: right;\">\n",
       "      <th></th>\n",
       "      <th>PATNO</th>\n",
       "      <th>ORDDATE</th>\n",
       "      <th>ORDSEQNO</th>\n",
       "      <th>ORDTABFG</th>\n",
       "      <th>PATFG</th>\n",
       "      <th>APPATFG</th>\n",
       "      <th>MEDDATE</th>\n",
       "      <th>MEDTIME</th>\n",
       "      <th>MEDTIMED</th>\n",
       "      <th>ORDACTPL</th>\n",
       "      <th>...</th>\n",
       "      <th>TODATE</th>\n",
       "      <th>RSVCNT</th>\n",
       "      <th>EXECCNT</th>\n",
       "      <th>ORDCNT</th>\n",
       "      <th>ETLDATE</th>\n",
       "      <th>PACKQTY</th>\n",
       "      <th>BLDVESSL</th>\n",
       "      <th>REGTIMEC</th>\n",
       "      <th>PACKUNIT</th>\n",
       "      <th>DOSNOTIDATE\\r</th>\n",
       "    </tr>\n",
       "  </thead>\n",
       "  <tbody>\n",
       "    <tr>\n",
       "      <th>3174</th>\n",
       "      <td>PATNO</td>\n",
       "      <td>NaT</td>\n",
       "      <td>ORDSEQNO</td>\n",
       "      <td>ORDTABFG</td>\n",
       "      <td>PATFG</td>\n",
       "      <td>APPATFG</td>\n",
       "      <td>MEDDATE</td>\n",
       "      <td>MEDTIME</td>\n",
       "      <td>MEDTIMED</td>\n",
       "      <td>ORDACTPL</td>\n",
       "      <td>...</td>\n",
       "      <td>TODATE</td>\n",
       "      <td>RSVCNT</td>\n",
       "      <td>EXECCNT</td>\n",
       "      <td>ORDCNT</td>\n",
       "      <td>ETLDATE</td>\n",
       "      <td>PACKQTY</td>\n",
       "      <td>BLDVESSL</td>\n",
       "      <td>REGTIMEC</td>\n",
       "      <td>PACKUNIT</td>\n",
       "      <td>DOSNOTIDATE\\r</td>\n",
       "    </tr>\n",
       "    <tr>\n",
       "      <th>6643</th>\n",
       "      <td>PATNO</td>\n",
       "      <td>NaT</td>\n",
       "      <td>ORDSEQNO</td>\n",
       "      <td>ORDTABFG</td>\n",
       "      <td>PATFG</td>\n",
       "      <td>APPATFG</td>\n",
       "      <td>MEDDATE</td>\n",
       "      <td>MEDTIME</td>\n",
       "      <td>MEDTIMED</td>\n",
       "      <td>ORDACTPL</td>\n",
       "      <td>...</td>\n",
       "      <td>TODATE</td>\n",
       "      <td>RSVCNT</td>\n",
       "      <td>EXECCNT</td>\n",
       "      <td>ORDCNT</td>\n",
       "      <td>ETLDATE</td>\n",
       "      <td>PACKQTY</td>\n",
       "      <td>BLDVESSL</td>\n",
       "      <td>REGTIMEC</td>\n",
       "      <td>PACKUNIT</td>\n",
       "      <td>DOSNOTIDATE\\r</td>\n",
       "    </tr>\n",
       "    <tr>\n",
       "      <th>9834</th>\n",
       "      <td>PATNO</td>\n",
       "      <td>NaT</td>\n",
       "      <td>ORDSEQNO</td>\n",
       "      <td>ORDTABFG</td>\n",
       "      <td>PATFG</td>\n",
       "      <td>APPATFG</td>\n",
       "      <td>MEDDATE</td>\n",
       "      <td>MEDTIME</td>\n",
       "      <td>MEDTIMED</td>\n",
       "      <td>ORDACTPL</td>\n",
       "      <td>...</td>\n",
       "      <td>TODATE</td>\n",
       "      <td>RSVCNT</td>\n",
       "      <td>EXECCNT</td>\n",
       "      <td>ORDCNT</td>\n",
       "      <td>ETLDATE</td>\n",
       "      <td>PACKQTY</td>\n",
       "      <td>BLDVESSL</td>\n",
       "      <td>REGTIMEC</td>\n",
       "      <td>PACKUNIT</td>\n",
       "      <td>DOSNOTIDATE\\r</td>\n",
       "    </tr>\n",
       "  </tbody>\n",
       "</table>\n",
       "<p>3 rows × 179 columns</p>\n",
       "</div>"
      ],
      "text/plain": [
       "      PATNO ORDDATE  ORDSEQNO  ORDTABFG  PATFG  APPATFG  MEDDATE  MEDTIME  \\\n",
       "3174  PATNO     NaT  ORDSEQNO  ORDTABFG  PATFG  APPATFG  MEDDATE  MEDTIME   \n",
       "6643  PATNO     NaT  ORDSEQNO  ORDTABFG  PATFG  APPATFG  MEDDATE  MEDTIME   \n",
       "9834  PATNO     NaT  ORDSEQNO  ORDTABFG  PATFG  APPATFG  MEDDATE  MEDTIME   \n",
       "\n",
       "      MEDTIMED  ORDACTPL  ...  TODATE  RSVCNT  EXECCNT  ORDCNT  ETLDATE  \\\n",
       "3174  MEDTIMED  ORDACTPL  ...  TODATE  RSVCNT  EXECCNT  ORDCNT  ETLDATE   \n",
       "6643  MEDTIMED  ORDACTPL  ...  TODATE  RSVCNT  EXECCNT  ORDCNT  ETLDATE   \n",
       "9834  MEDTIMED  ORDACTPL  ...  TODATE  RSVCNT  EXECCNT  ORDCNT  ETLDATE   \n",
       "\n",
       "      PACKQTY  BLDVESSL  REGTIMEC  PACKUNIT  DOSNOTIDATE\\r  \n",
       "3174  PACKQTY  BLDVESSL  REGTIMEC  PACKUNIT  DOSNOTIDATE\\r  \n",
       "6643  PACKQTY  BLDVESSL  REGTIMEC  PACKUNIT  DOSNOTIDATE\\r  \n",
       "9834  PACKQTY  BLDVESSL  REGTIMEC  PACKUNIT  DOSNOTIDATE\\r  \n",
       "\n",
       "[3 rows x 179 columns]"
      ]
     },
     "execution_count": 6,
     "metadata": {},
     "output_type": "execute_result"
    }
   ],
   "source": [
    "import pandas as pd\n",
    "\n",
    "df = pd.read_csv(\"F:/01.감염병데이터베이스/data/2024_infectious_DW/dw_mmcuhort_med.csv\", nrows=10000) #, lineterminator='\\n')\n",
    "# print(df.head(3))\n",
    "df[\"ORDDATE\"] = pd.to_datetime(df[\"ORDDATE\"], format = \"%Y%m%d\", errors='coerce')\n",
    "df[df[\"ORDDATE\"].isna()]"
   ]
  },
  {
   "cell_type": "code",
   "execution_count": 1,
   "metadata": {},
   "outputs": [
    {
     "name": "stderr",
     "output_type": "stream",
     "text": [
      "C:\\Users\\sangil\\AppData\\Local\\Temp\\ipykernel_47584\\335295275.py:3: DtypeWarning: Columns (16,18,19,27,28,30,31,43,44,47,51) have mixed types. Specify dtype option on import or set low_memory=False.\n",
      "  df = pd.read_csv(\"F:/01.감염병데이터베이스/결핵/emr/dw_stexmrst.csv\") #, lineterminator='\\n')\n"
     ]
    },
    {
     "name": "stdout",
     "output_type": "stream",
     "text": [
      "1028609\n"
     ]
    }
   ],
   "source": [
    "import pandas as pd\n",
    "\n",
    "df = pd.read_csv(\"F:/01.감염병데이터베이스/결핵/emr/dw_stexmrst.csv\") #, lineterminator='\\n')\n",
    "print(len(df))\n",
    "# df[\"ORDDATE\"] = pd.to_datetime(df[\"ORDDATE\"], format = \"%Y%m%d\", errors='coerce')\n",
    "# df[df[\"MEDTIME\"].isna()]\n",
    "# df[\"value_as_number\"] = df[\"RSLTNUM\"].str.extract('(-?\\d+\\.\\d+|\\d+)')\n",
    "# df[\"value_as_number\"] = df[\"value_as_number\"].astype(float)\n",
    "# df[\"value_as_number\"] \n"
   ]
  },
  {
   "cell_type": "code",
   "execution_count": 14,
   "metadata": {},
   "outputs": [],
   "source": [
    "import pandas as pd\n",
    "chunk_size = 100000 \n",
    "# df = pd.read_csv(\"F:/01.감염병데이터베이스/결핵/emr/dw_mmcuhort_med.csv\", chunksize=chunk_size)\n",
    "# 누적 결과를 저장할 빈 DataFrame 초기화\n",
    "result_series = pd.Series(dtype=float)\n",
    "df = pd.read_csv(\"F:/01.감염병데이터베이스/결핵/emr/dw_mmcuhort_med.csv\", chunksize=chunk_size, dtype=str)\n",
    "for chunk in df:\n",
    "    # 'ORDDATE' 열을 datetime 타입으로 변환\n",
    "    chunk['ORDDATE'] = pd.to_datetime(chunk['ORDDATE'])\n",
    "    \n",
    "    # 연도와 월별 데이터 개수 계산\n",
    "    counts = chunk.groupby([chunk['ORDDATE'].dt.year, chunk['ORDDATE'].dt.month]).size()\n",
    "    \n",
    "    # 결과 누적\n",
    "    if result_series.empty:\n",
    "        result_series = counts\n",
    "    else:\n",
    "        result_series = result_series.add(counts, fill_value=0)\n",
    "\n",
    "# 결과 출력 전 Series를 DataFrame으로 변환하고, 필요하다면 multi-index를 처리\n",
    "result_df = result_series.unstack(fill_value=0).stack().astype(int)\n",
    "\n",
    "result_df.to_csv(\"dw_mmcuhort_result.csv\")"
   ]
  },
  {
   "cell_type": "code",
   "execution_count": 16,
   "metadata": {},
   "outputs": [
    {
     "name": "stdout",
     "output_type": "stream",
     "text": [
      "ORDDATE\n",
      "1998     231072\n",
      "1999     466974\n",
      "2000     515586\n",
      "2001     654194\n",
      "2002     627398\n",
      "2003     734648\n",
      "2004     880903\n",
      "2005     989244\n",
      "2006     949151\n",
      "2007    1066397\n",
      "2008     992923\n",
      "2009    1074486\n",
      "2010    1147192\n",
      "2011    1206288\n",
      "2012    1226139\n",
      "2013    1231198\n",
      "2014    1308748\n",
      "2015    1259881\n",
      "2016    1337031\n",
      "2017    1102858\n",
      "2018    1155492\n",
      "2019    1121050\n",
      "2020    1151572\n",
      "2021    1033133\n",
      "2022    1037770\n",
      "2023    1091874\n",
      "dtype: int64\n"
     ]
    }
   ],
   "source": [
    "import pandas as pd\n",
    "df = pd.read_csv(\"F:/01.감염병데이터베이스/결핵/emr/dw_stexmrst.csv\", dtype=str)\n",
    "df[\"ORDDATE\"] = pd.to_datetime(df[\"ORDDATE\"])\n",
    "yearly_counts = df.groupby(df[\"ORDDATE\"].dt.year).size()\n",
    "print(yearly_counts)"
   ]
  },
  {
   "cell_type": "code",
   "execution_count": 15,
   "metadata": {},
   "outputs": [
    {
     "name": "stderr",
     "output_type": "stream",
     "text": [
      "C:\\Users\\sangil\\AppData\\Local\\Temp\\ipykernel_44340\\292020175.py:3: DtypeWarning: Columns (38,39) have mixed types. Specify dtype option on import or set low_memory=False.\n",
      "  df = pd.read_csv(\"F:/01.감염병데이터베이스/결핵/cdm/drug_exposure.csv\")\n"
     ]
    },
    {
     "name": "stdout",
     "output_type": "stream",
     "text": [
      "13084302\n",
      "                                   count  unique  \\\n",
      "drug_exposure_id              13084302.0     NaN   \n",
      "person_id                     13084302.0     NaN   \n",
      "환자명                             13084302   15242   \n",
      "drug_concept_id               13084302.0     NaN   \n",
      "drug_exposure_start_date        13084302    9453   \n",
      "drug_exposure_start_datetime    13084302    9453   \n",
      "drug_exposure_end_date          13084302    9651   \n",
      "drug_exposure_end_datetime      13084302    9651   \n",
      "verbatim_end_date                    0.0     NaN   \n",
      "drug_type_concept_id          13084302.0     NaN   \n",
      "drug_type_concept_id_name       13084302       1   \n",
      "stop_reason                          0.0     NaN   \n",
      "refills                       13084302.0     NaN   \n",
      "quantity                      13084301.0     NaN   \n",
      "days_supply                   13084302.0     NaN   \n",
      "sig                                  0.0     NaN   \n",
      "route_concept_id              13084302.0     NaN   \n",
      "lot_number                           0.0     NaN   \n",
      "provider_id                   13084285.0     NaN   \n",
      "visit_occurrence_id           12084722.0     NaN   \n",
      "visit_detail_id                 953280.0     NaN   \n",
      "drug_source_value               13084302    3804   \n",
      "drug_source_value_name          13084298   13462   \n",
      "drug_source_concept_id          13084272    7778   \n",
      "route_source_value                   0.0     NaN   \n",
      "dose_unit_source_value          13077111      35   \n",
      "vocabulary_id                   13084302       1   \n",
      "visit_source_key                13084302  751297   \n",
      "환자구분                            13084302       3   \n",
      "진료과                             13084302      53   \n",
      "진료과명                            13084301      52   \n",
      "나이                            13084166.0     NaN   \n",
      "투여량                           13084301.0     NaN   \n",
      "함량단위                            13077111      35   \n",
      "횟수                            13084302.0     NaN   \n",
      "일수                            13084302.0     NaN   \n",
      "용법코드                            13084264     200   \n",
      "처방순번                          13084302.0     NaN   \n",
      "ATC코드                            7521322    1324   \n",
      "ATC 코드명                          7521322    1256   \n",
      "\n",
      "                                                           top      freq  \\\n",
      "drug_exposure_id                                           NaN       NaN   \n",
      "person_id                                                  NaN       NaN   \n",
      "환자명                                                        최성식     50428   \n",
      "drug_concept_id                                            NaN       NaN   \n",
      "drug_exposure_start_date                            2016-10-04      2636   \n",
      "drug_exposure_start_datetime                        2016-10-04      2636   \n",
      "drug_exposure_end_date                              2016-10-12      2469   \n",
      "drug_exposure_end_datetime                          2016-10-12      2469   \n",
      "verbatim_end_date                                          NaN       NaN   \n",
      "drug_type_concept_id                                       NaN       NaN   \n",
      "drug_type_concept_id_name                 Prescription written  13084302   \n",
      "stop_reason                                                NaN       NaN   \n",
      "refills                                                    NaN       NaN   \n",
      "quantity                                                   NaN       NaN   \n",
      "days_supply                                                NaN       NaN   \n",
      "sig                                                        NaN       NaN   \n",
      "route_concept_id                                           NaN       NaN   \n",
      "lot_number                                                 NaN       NaN   \n",
      "provider_id                                                NaN       NaN   \n",
      "visit_occurrence_id                                        NaN       NaN   \n",
      "visit_detail_id                                            NaN       NaN   \n",
      "drug_source_value                                         WNS2    750132   \n",
      "drug_source_value_name                        ★N/S 50ml/BT(대한)    218512   \n",
      "drug_source_concept_id                               644902691    234183   \n",
      "route_source_value                                         NaN       NaN   \n",
      "dose_unit_source_value                                     TAB   6070142   \n",
      "vocabulary_id                                              EDI  13084302   \n",
      "visit_source_key              018621242019-12-31 17:45:00IIMPM     49504   \n",
      "환자구분                                                         I   9383747   \n",
      "진료과                                                       IMPM   6736886   \n",
      "진료과명                                                 호흡기알레르기내과   6736886   \n",
      "나이                                                         NaN       NaN   \n",
      "투여량                                                        NaN       NaN   \n",
      "함량단위                                                       TAB   6070142   \n",
      "횟수                                                         NaN       NaN   \n",
      "일수                                                         NaN       NaN   \n",
      "용법코드                                                        IV   2784882   \n",
      "처방순번                                                       NaN       NaN   \n",
      "ATC코드                                                  B05XA03    961108   \n",
      "ATC 코드명                                        sodium chloride    964964   \n",
      "\n",
      "                                         mean              std         min  \\\n",
      "drug_exposure_id                 45039.801499      26240.89021         1.0   \n",
      "person_id                         9500.290004      5884.490981         1.0   \n",
      "환자명                                       NaN              NaN         NaN   \n",
      "drug_concept_id               19204348.452869  21137637.661488         0.0   \n",
      "drug_exposure_start_date                  NaN              NaN         NaN   \n",
      "drug_exposure_start_datetime              NaN              NaN         NaN   \n",
      "drug_exposure_end_date                    NaN              NaN         NaN   \n",
      "drug_exposure_end_datetime                NaN              NaN         NaN   \n",
      "verbatim_end_date                         NaN              NaN         NaN   \n",
      "drug_type_concept_id               38000177.0              0.0  38000177.0   \n",
      "drug_type_concept_id_name                 NaN              NaN         NaN   \n",
      "stop_reason                               NaN              NaN         NaN   \n",
      "refills                                   0.0              0.0         0.0   \n",
      "quantity                            24.865519       450.305504      -222.0   \n",
      "days_supply                          8.338019         18.44331       -74.0   \n",
      "sig                                       NaN              NaN         NaN   \n",
      "route_concept_id                          0.0              0.0         0.0   \n",
      "lot_number                                NaN              NaN         NaN   \n",
      "provider_id                       2603.273527      2202.007525        57.0   \n",
      "visit_occurrence_id            1120449.589248    398773.203449         3.0   \n",
      "visit_detail_id                    865.589408       482.506841         1.0   \n",
      "drug_source_value                         NaN              NaN         NaN   \n",
      "drug_source_value_name                    NaN              NaN         NaN   \n",
      "drug_source_concept_id                    NaN              NaN         NaN   \n",
      "route_source_value                        NaN              NaN         NaN   \n",
      "dose_unit_source_value                    NaN              NaN         NaN   \n",
      "vocabulary_id                             NaN              NaN         NaN   \n",
      "visit_source_key                          NaN              NaN         NaN   \n",
      "환자구분                                      NaN              NaN         NaN   \n",
      "진료과                                       NaN              NaN         NaN   \n",
      "진료과명                                      NaN              NaN         NaN   \n",
      "나이                                  62.179831        16.696288       -81.0   \n",
      "투여량                                  3.488195        65.952468        -2.0   \n",
      "함량단위                                      NaN              NaN         NaN   \n",
      "횟수                                   1.631526         0.826885         0.0   \n",
      "일수                                   8.338019         18.44331       -74.0   \n",
      "용법코드                                      NaN              NaN         NaN   \n",
      "처방순번                                17.164491        54.259248         1.0   \n",
      "ATC코드                                     NaN              NaN         NaN   \n",
      "ATC 코드명                                   NaN              NaN         NaN   \n",
      "\n",
      "                                     25%         50%         75%         max  \n",
      "drug_exposure_id                 22405.0     44822.0     67381.0    119262.0  \n",
      "person_id                         4593.0      9582.0     14495.0     19973.0  \n",
      "환자명                                  NaN         NaN         NaN         NaN  \n",
      "drug_concept_id                      0.0   2085774.0  42990540.0  43008941.0  \n",
      "drug_exposure_start_date             NaN         NaN         NaN         NaN  \n",
      "drug_exposure_start_datetime         NaN         NaN         NaN         NaN  \n",
      "drug_exposure_end_date               NaN         NaN         NaN         NaN  \n",
      "drug_exposure_end_datetime           NaN         NaN         NaN         NaN  \n",
      "verbatim_end_date                    NaN         NaN         NaN         NaN  \n",
      "drug_type_concept_id          38000177.0  38000177.0  38000177.0  38000177.0  \n",
      "drug_type_concept_id_name            NaN         NaN         NaN         NaN  \n",
      "stop_reason                          NaN         NaN         NaN         NaN  \n",
      "refills                              0.0         0.0         0.0         0.0  \n",
      "quantity                             1.0         2.0         8.0    297000.0  \n",
      "days_supply                          1.0         1.0         4.0       180.0  \n",
      "sig                                  NaN         NaN         NaN         NaN  \n",
      "route_concept_id                     0.0         0.0         0.0         0.0  \n",
      "lot_number                           NaN         NaN         NaN         NaN  \n",
      "provider_id                        640.0      1492.0      4359.0     15065.0  \n",
      "visit_occurrence_id            1117876.0   1320782.0   1349130.0   1378656.0  \n",
      "visit_detail_id                    485.0       873.0      1230.0      1741.0  \n",
      "drug_source_value                    NaN         NaN         NaN         NaN  \n",
      "drug_source_value_name               NaN         NaN         NaN         NaN  \n",
      "drug_source_concept_id               NaN         NaN         NaN         NaN  \n",
      "route_source_value                   NaN         NaN         NaN         NaN  \n",
      "dose_unit_source_value               NaN         NaN         NaN         NaN  \n",
      "vocabulary_id                        NaN         NaN         NaN         NaN  \n",
      "visit_source_key                     NaN         NaN         NaN         NaN  \n",
      "환자구분                                 NaN         NaN         NaN         NaN  \n",
      "진료과                                  NaN         NaN         NaN         NaN  \n",
      "진료과명                                 NaN         NaN         NaN         NaN  \n",
      "나이                                  53.0        66.0        74.0       103.0  \n",
      "투여량                                  1.0         1.0         1.0     50000.0  \n",
      "함량단위                                 NaN         NaN         NaN         NaN  \n",
      "횟수                                   1.0         1.0         2.0        90.0  \n",
      "일수                                   1.0         1.0         4.0       180.0  \n",
      "용법코드                                 NaN         NaN         NaN         NaN  \n",
      "처방순번                                 5.0        11.0        22.0     90080.0  \n",
      "ATC코드                                NaN         NaN         NaN         NaN  \n",
      "ATC 코드명                              NaN         NaN         NaN         NaN  \n",
      "drug_exposure_id                       0\n",
      "person_id                              0\n",
      "환자명                                    0\n",
      "drug_concept_id                        0\n",
      "drug_exposure_start_date               0\n",
      "drug_exposure_start_datetime           0\n",
      "drug_exposure_end_date                 0\n",
      "drug_exposure_end_datetime             0\n",
      "verbatim_end_date               13084302\n",
      "drug_type_concept_id                   0\n",
      "drug_type_concept_id_name              0\n",
      "stop_reason                     13084302\n",
      "refills                                0\n",
      "quantity                               1\n",
      "days_supply                            0\n",
      "sig                             13084302\n",
      "route_concept_id                       0\n",
      "lot_number                      13084302\n",
      "provider_id                           17\n",
      "visit_occurrence_id               999580\n",
      "visit_detail_id                 12131022\n",
      "drug_source_value                      0\n",
      "drug_source_value_name                 4\n",
      "drug_source_concept_id                30\n",
      "route_source_value              13084302\n",
      "dose_unit_source_value              7191\n",
      "vocabulary_id                          0\n",
      "visit_source_key                       0\n",
      "환자구분                                   0\n",
      "진료과                                    0\n",
      "진료과명                                   1\n",
      "나이                                   136\n",
      "투여량                                    1\n",
      "함량단위                                7191\n",
      "횟수                                     0\n",
      "일수                                     0\n",
      "용법코드                                  38\n",
      "처방순번                                   0\n",
      "ATC코드                            5562980\n",
      "ATC 코드명                          5562980\n",
      "dtype: int64\n"
     ]
    }
   ],
   "source": [
    "import pandas as pd\n",
    "\n",
    "df = pd.read_csv(\"F:/01.감염병데이터베이스/결핵/cdm/drug_exposure.csv\")\n",
    "print(len(df))\n",
    "print(df.describe(include = 'all', datetime_is_numeric=True).T)\n",
    "print(df.isnull().sum())"
   ]
  },
  {
   "cell_type": "code",
   "execution_count": null,
   "metadata": {},
   "outputs": [],
   "source": []
  }
 ],
 "metadata": {
  "kernelspec": {
   "display_name": "sangil",
   "language": "python",
   "name": "python3"
  },
  "language_info": {
   "codemirror_mode": {
    "name": "ipython",
    "version": 3
   },
   "file_extension": ".py",
   "mimetype": "text/x-python",
   "name": "python",
   "nbconvert_exporter": "python",
   "pygments_lexer": "ipython3",
   "version": "3.11.4"
  }
 },
 "nbformat": 4,
 "nbformat_minor": 2
}
